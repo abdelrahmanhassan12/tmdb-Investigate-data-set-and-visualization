{
 "cells": [
  {
   "cell_type": "markdown",
   "metadata": {},
   "source": [
    "# tmdb Movies Analysis\n",
    "\n",
    "## Table of Contents\n",
    "<ul>\n",
    "<li><a href=\"#intro\">Introduction</a></li>\n",
    "<li><a href=\"#wrangling\">Data Wrangling</a></li>\n",
    "<li><a href=\"#eda\">Exploratory Data Analysis</a></li>\n",
    "<li><a href=\"#conclusions\">Conclusions</a></li>\n",
    "</ul>"
   ]
  },
  {
   "cell_type": "markdown",
   "metadata": {},
   "source": [
    "<a id='intro'></a>\n",
    "## Introduction\n",
    "\n",
    ">we have a dataset for 10k movies in tmdb. We are going to analyse these data according to their budget,revenue,ratings and their profits.\n",
    "\n",
    "#### Questions that can be answered by looking at the datasets are:\n",
    "> - Which movie has the highest profit & which has the lowest ? \n",
    "> - Which movie has the longest runtime & which has the lowest ? \n",
    "> - Which movie had the highest and lowest budget?\n",
    "> - Which movie had the highest and lowest revenue?\n",
    "> - Which are the most frequent actor involved?\n",
    "#### Questions that will be answered based on the 100 rated movies: \n",
    "> - What is the highest rated movie?\n",
    "> - What is the average budget of the movies?\n",
    "> - What is the average revenue of the movies?\n",
    "> - What is the average runtime of the movies?\n",
    "> - Which are the successfull genres?\n",
    "> - Which are the most frequent actor involved?"
   ]
  },
  {
   "cell_type": "code",
   "execution_count": 1,
   "metadata": {},
   "outputs": [],
   "source": [
    "#importing the libraries we need \n",
    "import pandas as pd\n",
    "import numpy as np\n",
    "import matplotlib.pyplot as plt\n",
    "import seaborn as sns\n",
    "%matplotlib inline"
   ]
  },
  {
   "cell_type": "markdown",
   "metadata": {},
   "source": [
    "<a id='wrangling'></a>\n",
    "## Data Wrangling\n",
    ">Here in this section we will see how the data is represented, what will we use in the data analysis process and what we won't.\n",
    "### General Properties"
   ]
  },
  {
   "cell_type": "code",
   "execution_count": 2,
   "metadata": {},
   "outputs": [
    {
     "data": {
      "text/html": [
       "<div>\n",
       "<style scoped>\n",
       "    .dataframe tbody tr th:only-of-type {\n",
       "        vertical-align: middle;\n",
       "    }\n",
       "\n",
       "    .dataframe tbody tr th {\n",
       "        vertical-align: top;\n",
       "    }\n",
       "\n",
       "    .dataframe thead th {\n",
       "        text-align: right;\n",
       "    }\n",
       "</style>\n",
       "<table border=\"1\" class=\"dataframe\">\n",
       "  <thead>\n",
       "    <tr style=\"text-align: right;\">\n",
       "      <th></th>\n",
       "      <th>id</th>\n",
       "      <th>imdb_id</th>\n",
       "      <th>popularity</th>\n",
       "      <th>budget</th>\n",
       "      <th>revenue</th>\n",
       "      <th>original_title</th>\n",
       "      <th>cast</th>\n",
       "      <th>homepage</th>\n",
       "      <th>director</th>\n",
       "      <th>tagline</th>\n",
       "      <th>...</th>\n",
       "      <th>overview</th>\n",
       "      <th>runtime</th>\n",
       "      <th>genres</th>\n",
       "      <th>production_companies</th>\n",
       "      <th>release_date</th>\n",
       "      <th>vote_count</th>\n",
       "      <th>vote_average</th>\n",
       "      <th>release_year</th>\n",
       "      <th>budget_adj</th>\n",
       "      <th>revenue_adj</th>\n",
       "    </tr>\n",
       "  </thead>\n",
       "  <tbody>\n",
       "    <tr>\n",
       "      <th>0</th>\n",
       "      <td>135397</td>\n",
       "      <td>tt0369610</td>\n",
       "      <td>32.985763</td>\n",
       "      <td>150000000</td>\n",
       "      <td>1513528810</td>\n",
       "      <td>Jurassic World</td>\n",
       "      <td>Chris Pratt|Bryce Dallas Howard|Irrfan Khan|Vi...</td>\n",
       "      <td>http://www.jurassicworld.com/</td>\n",
       "      <td>Colin Trevorrow</td>\n",
       "      <td>The park is open.</td>\n",
       "      <td>...</td>\n",
       "      <td>Twenty-two years after the events of Jurassic ...</td>\n",
       "      <td>124</td>\n",
       "      <td>Action|Adventure|Science Fiction|Thriller</td>\n",
       "      <td>Universal Studios|Amblin Entertainment|Legenda...</td>\n",
       "      <td>6/9/15</td>\n",
       "      <td>5562</td>\n",
       "      <td>6.5</td>\n",
       "      <td>2015</td>\n",
       "      <td>1.379999e+08</td>\n",
       "      <td>1.392446e+09</td>\n",
       "    </tr>\n",
       "    <tr>\n",
       "      <th>1</th>\n",
       "      <td>76341</td>\n",
       "      <td>tt1392190</td>\n",
       "      <td>28.419936</td>\n",
       "      <td>150000000</td>\n",
       "      <td>378436354</td>\n",
       "      <td>Mad Max: Fury Road</td>\n",
       "      <td>Tom Hardy|Charlize Theron|Hugh Keays-Byrne|Nic...</td>\n",
       "      <td>http://www.madmaxmovie.com/</td>\n",
       "      <td>George Miller</td>\n",
       "      <td>What a Lovely Day.</td>\n",
       "      <td>...</td>\n",
       "      <td>An apocalyptic story set in the furthest reach...</td>\n",
       "      <td>120</td>\n",
       "      <td>Action|Adventure|Science Fiction|Thriller</td>\n",
       "      <td>Village Roadshow Pictures|Kennedy Miller Produ...</td>\n",
       "      <td>5/13/15</td>\n",
       "      <td>6185</td>\n",
       "      <td>7.1</td>\n",
       "      <td>2015</td>\n",
       "      <td>1.379999e+08</td>\n",
       "      <td>3.481613e+08</td>\n",
       "    </tr>\n",
       "    <tr>\n",
       "      <th>2</th>\n",
       "      <td>262500</td>\n",
       "      <td>tt2908446</td>\n",
       "      <td>13.112507</td>\n",
       "      <td>110000000</td>\n",
       "      <td>295238201</td>\n",
       "      <td>Insurgent</td>\n",
       "      <td>Shailene Woodley|Theo James|Kate Winslet|Ansel...</td>\n",
       "      <td>http://www.thedivergentseries.movie/#insurgent</td>\n",
       "      <td>Robert Schwentke</td>\n",
       "      <td>One Choice Can Destroy You</td>\n",
       "      <td>...</td>\n",
       "      <td>Beatrice Prior must confront her inner demons ...</td>\n",
       "      <td>119</td>\n",
       "      <td>Adventure|Science Fiction|Thriller</td>\n",
       "      <td>Summit Entertainment|Mandeville Films|Red Wago...</td>\n",
       "      <td>3/18/15</td>\n",
       "      <td>2480</td>\n",
       "      <td>6.3</td>\n",
       "      <td>2015</td>\n",
       "      <td>1.012000e+08</td>\n",
       "      <td>2.716190e+08</td>\n",
       "    </tr>\n",
       "    <tr>\n",
       "      <th>3</th>\n",
       "      <td>140607</td>\n",
       "      <td>tt2488496</td>\n",
       "      <td>11.173104</td>\n",
       "      <td>200000000</td>\n",
       "      <td>2068178225</td>\n",
       "      <td>Star Wars: The Force Awakens</td>\n",
       "      <td>Harrison Ford|Mark Hamill|Carrie Fisher|Adam D...</td>\n",
       "      <td>http://www.starwars.com/films/star-wars-episod...</td>\n",
       "      <td>J.J. Abrams</td>\n",
       "      <td>Every generation has a story.</td>\n",
       "      <td>...</td>\n",
       "      <td>Thirty years after defeating the Galactic Empi...</td>\n",
       "      <td>136</td>\n",
       "      <td>Action|Adventure|Science Fiction|Fantasy</td>\n",
       "      <td>Lucasfilm|Truenorth Productions|Bad Robot</td>\n",
       "      <td>12/15/15</td>\n",
       "      <td>5292</td>\n",
       "      <td>7.5</td>\n",
       "      <td>2015</td>\n",
       "      <td>1.839999e+08</td>\n",
       "      <td>1.902723e+09</td>\n",
       "    </tr>\n",
       "    <tr>\n",
       "      <th>4</th>\n",
       "      <td>168259</td>\n",
       "      <td>tt2820852</td>\n",
       "      <td>9.335014</td>\n",
       "      <td>190000000</td>\n",
       "      <td>1506249360</td>\n",
       "      <td>Furious 7</td>\n",
       "      <td>Vin Diesel|Paul Walker|Jason Statham|Michelle ...</td>\n",
       "      <td>http://www.furious7.com/</td>\n",
       "      <td>James Wan</td>\n",
       "      <td>Vengeance Hits Home</td>\n",
       "      <td>...</td>\n",
       "      <td>Deckard Shaw seeks revenge against Dominic Tor...</td>\n",
       "      <td>137</td>\n",
       "      <td>Action|Crime|Thriller</td>\n",
       "      <td>Universal Pictures|Original Film|Media Rights ...</td>\n",
       "      <td>4/1/15</td>\n",
       "      <td>2947</td>\n",
       "      <td>7.3</td>\n",
       "      <td>2015</td>\n",
       "      <td>1.747999e+08</td>\n",
       "      <td>1.385749e+09</td>\n",
       "    </tr>\n",
       "  </tbody>\n",
       "</table>\n",
       "<p>5 rows × 21 columns</p>\n",
       "</div>"
      ],
      "text/plain": [
       "       id    imdb_id  popularity     budget     revenue  \\\n",
       "0  135397  tt0369610   32.985763  150000000  1513528810   \n",
       "1   76341  tt1392190   28.419936  150000000   378436354   \n",
       "2  262500  tt2908446   13.112507  110000000   295238201   \n",
       "3  140607  tt2488496   11.173104  200000000  2068178225   \n",
       "4  168259  tt2820852    9.335014  190000000  1506249360   \n",
       "\n",
       "                 original_title  \\\n",
       "0                Jurassic World   \n",
       "1            Mad Max: Fury Road   \n",
       "2                     Insurgent   \n",
       "3  Star Wars: The Force Awakens   \n",
       "4                     Furious 7   \n",
       "\n",
       "                                                cast  \\\n",
       "0  Chris Pratt|Bryce Dallas Howard|Irrfan Khan|Vi...   \n",
       "1  Tom Hardy|Charlize Theron|Hugh Keays-Byrne|Nic...   \n",
       "2  Shailene Woodley|Theo James|Kate Winslet|Ansel...   \n",
       "3  Harrison Ford|Mark Hamill|Carrie Fisher|Adam D...   \n",
       "4  Vin Diesel|Paul Walker|Jason Statham|Michelle ...   \n",
       "\n",
       "                                            homepage          director  \\\n",
       "0                      http://www.jurassicworld.com/   Colin Trevorrow   \n",
       "1                        http://www.madmaxmovie.com/     George Miller   \n",
       "2     http://www.thedivergentseries.movie/#insurgent  Robert Schwentke   \n",
       "3  http://www.starwars.com/films/star-wars-episod...       J.J. Abrams   \n",
       "4                           http://www.furious7.com/         James Wan   \n",
       "\n",
       "                         tagline  ...  \\\n",
       "0              The park is open.  ...   \n",
       "1             What a Lovely Day.  ...   \n",
       "2     One Choice Can Destroy You  ...   \n",
       "3  Every generation has a story.  ...   \n",
       "4            Vengeance Hits Home  ...   \n",
       "\n",
       "                                            overview runtime  \\\n",
       "0  Twenty-two years after the events of Jurassic ...     124   \n",
       "1  An apocalyptic story set in the furthest reach...     120   \n",
       "2  Beatrice Prior must confront her inner demons ...     119   \n",
       "3  Thirty years after defeating the Galactic Empi...     136   \n",
       "4  Deckard Shaw seeks revenge against Dominic Tor...     137   \n",
       "\n",
       "                                      genres  \\\n",
       "0  Action|Adventure|Science Fiction|Thriller   \n",
       "1  Action|Adventure|Science Fiction|Thriller   \n",
       "2         Adventure|Science Fiction|Thriller   \n",
       "3   Action|Adventure|Science Fiction|Fantasy   \n",
       "4                      Action|Crime|Thriller   \n",
       "\n",
       "                                production_companies release_date vote_count  \\\n",
       "0  Universal Studios|Amblin Entertainment|Legenda...       6/9/15       5562   \n",
       "1  Village Roadshow Pictures|Kennedy Miller Produ...      5/13/15       6185   \n",
       "2  Summit Entertainment|Mandeville Films|Red Wago...      3/18/15       2480   \n",
       "3          Lucasfilm|Truenorth Productions|Bad Robot     12/15/15       5292   \n",
       "4  Universal Pictures|Original Film|Media Rights ...       4/1/15       2947   \n",
       "\n",
       "   vote_average  release_year    budget_adj   revenue_adj  \n",
       "0           6.5          2015  1.379999e+08  1.392446e+09  \n",
       "1           7.1          2015  1.379999e+08  3.481613e+08  \n",
       "2           6.3          2015  1.012000e+08  2.716190e+08  \n",
       "3           7.5          2015  1.839999e+08  1.902723e+09  \n",
       "4           7.3          2015  1.747999e+08  1.385749e+09  \n",
       "\n",
       "[5 rows x 21 columns]"
      ]
     },
     "execution_count": 2,
     "metadata": {},
     "output_type": "execute_result"
    }
   ],
   "source": [
    "#load our dataset\n",
    "df=pd.read_csv('tmdb-movies.csv')\n",
    "#getting a closer look on the data\n",
    "df.head(5)"
   ]
  },
  {
   "cell_type": "markdown",
   "metadata": {},
   "source": [
    " "
   ]
  },
  {
   "cell_type": "markdown",
   "metadata": {},
   "source": [
    "Let's see some statistical values for these dataset"
   ]
  },
  {
   "cell_type": "code",
   "execution_count": 3,
   "metadata": {},
   "outputs": [
    {
     "data": {
      "text/html": [
       "<div>\n",
       "<style scoped>\n",
       "    .dataframe tbody tr th:only-of-type {\n",
       "        vertical-align: middle;\n",
       "    }\n",
       "\n",
       "    .dataframe tbody tr th {\n",
       "        vertical-align: top;\n",
       "    }\n",
       "\n",
       "    .dataframe thead th {\n",
       "        text-align: right;\n",
       "    }\n",
       "</style>\n",
       "<table border=\"1\" class=\"dataframe\">\n",
       "  <thead>\n",
       "    <tr style=\"text-align: right;\">\n",
       "      <th></th>\n",
       "      <th>id</th>\n",
       "      <th>popularity</th>\n",
       "      <th>budget</th>\n",
       "      <th>revenue</th>\n",
       "      <th>runtime</th>\n",
       "      <th>vote_count</th>\n",
       "      <th>vote_average</th>\n",
       "      <th>release_year</th>\n",
       "      <th>budget_adj</th>\n",
       "      <th>revenue_adj</th>\n",
       "    </tr>\n",
       "  </thead>\n",
       "  <tbody>\n",
       "    <tr>\n",
       "      <th>count</th>\n",
       "      <td>10866.000000</td>\n",
       "      <td>10866.000000</td>\n",
       "      <td>1.086600e+04</td>\n",
       "      <td>1.086600e+04</td>\n",
       "      <td>10866.000000</td>\n",
       "      <td>10866.000000</td>\n",
       "      <td>10866.000000</td>\n",
       "      <td>10866.000000</td>\n",
       "      <td>1.086600e+04</td>\n",
       "      <td>1.086600e+04</td>\n",
       "    </tr>\n",
       "    <tr>\n",
       "      <th>mean</th>\n",
       "      <td>66064.177434</td>\n",
       "      <td>0.646441</td>\n",
       "      <td>1.462570e+07</td>\n",
       "      <td>3.982332e+07</td>\n",
       "      <td>102.070863</td>\n",
       "      <td>217.389748</td>\n",
       "      <td>5.974922</td>\n",
       "      <td>2001.322658</td>\n",
       "      <td>1.755104e+07</td>\n",
       "      <td>5.136436e+07</td>\n",
       "    </tr>\n",
       "    <tr>\n",
       "      <th>std</th>\n",
       "      <td>92130.136561</td>\n",
       "      <td>1.000185</td>\n",
       "      <td>3.091321e+07</td>\n",
       "      <td>1.170035e+08</td>\n",
       "      <td>31.381405</td>\n",
       "      <td>575.619058</td>\n",
       "      <td>0.935142</td>\n",
       "      <td>12.812941</td>\n",
       "      <td>3.430616e+07</td>\n",
       "      <td>1.446325e+08</td>\n",
       "    </tr>\n",
       "    <tr>\n",
       "      <th>min</th>\n",
       "      <td>5.000000</td>\n",
       "      <td>0.000065</td>\n",
       "      <td>0.000000e+00</td>\n",
       "      <td>0.000000e+00</td>\n",
       "      <td>0.000000</td>\n",
       "      <td>10.000000</td>\n",
       "      <td>1.500000</td>\n",
       "      <td>1960.000000</td>\n",
       "      <td>0.000000e+00</td>\n",
       "      <td>0.000000e+00</td>\n",
       "    </tr>\n",
       "    <tr>\n",
       "      <th>25%</th>\n",
       "      <td>10596.250000</td>\n",
       "      <td>0.207583</td>\n",
       "      <td>0.000000e+00</td>\n",
       "      <td>0.000000e+00</td>\n",
       "      <td>90.000000</td>\n",
       "      <td>17.000000</td>\n",
       "      <td>5.400000</td>\n",
       "      <td>1995.000000</td>\n",
       "      <td>0.000000e+00</td>\n",
       "      <td>0.000000e+00</td>\n",
       "    </tr>\n",
       "    <tr>\n",
       "      <th>50%</th>\n",
       "      <td>20669.000000</td>\n",
       "      <td>0.383856</td>\n",
       "      <td>0.000000e+00</td>\n",
       "      <td>0.000000e+00</td>\n",
       "      <td>99.000000</td>\n",
       "      <td>38.000000</td>\n",
       "      <td>6.000000</td>\n",
       "      <td>2006.000000</td>\n",
       "      <td>0.000000e+00</td>\n",
       "      <td>0.000000e+00</td>\n",
       "    </tr>\n",
       "    <tr>\n",
       "      <th>75%</th>\n",
       "      <td>75610.000000</td>\n",
       "      <td>0.713817</td>\n",
       "      <td>1.500000e+07</td>\n",
       "      <td>2.400000e+07</td>\n",
       "      <td>111.000000</td>\n",
       "      <td>145.750000</td>\n",
       "      <td>6.600000</td>\n",
       "      <td>2011.000000</td>\n",
       "      <td>2.085325e+07</td>\n",
       "      <td>3.369710e+07</td>\n",
       "    </tr>\n",
       "    <tr>\n",
       "      <th>max</th>\n",
       "      <td>417859.000000</td>\n",
       "      <td>32.985763</td>\n",
       "      <td>4.250000e+08</td>\n",
       "      <td>2.781506e+09</td>\n",
       "      <td>900.000000</td>\n",
       "      <td>9767.000000</td>\n",
       "      <td>9.200000</td>\n",
       "      <td>2015.000000</td>\n",
       "      <td>4.250000e+08</td>\n",
       "      <td>2.827124e+09</td>\n",
       "    </tr>\n",
       "  </tbody>\n",
       "</table>\n",
       "</div>"
      ],
      "text/plain": [
       "                  id    popularity        budget       revenue       runtime  \\\n",
       "count   10866.000000  10866.000000  1.086600e+04  1.086600e+04  10866.000000   \n",
       "mean    66064.177434      0.646441  1.462570e+07  3.982332e+07    102.070863   \n",
       "std     92130.136561      1.000185  3.091321e+07  1.170035e+08     31.381405   \n",
       "min         5.000000      0.000065  0.000000e+00  0.000000e+00      0.000000   \n",
       "25%     10596.250000      0.207583  0.000000e+00  0.000000e+00     90.000000   \n",
       "50%     20669.000000      0.383856  0.000000e+00  0.000000e+00     99.000000   \n",
       "75%     75610.000000      0.713817  1.500000e+07  2.400000e+07    111.000000   \n",
       "max    417859.000000     32.985763  4.250000e+08  2.781506e+09    900.000000   \n",
       "\n",
       "         vote_count  vote_average  release_year    budget_adj   revenue_adj  \n",
       "count  10866.000000  10866.000000  10866.000000  1.086600e+04  1.086600e+04  \n",
       "mean     217.389748      5.974922   2001.322658  1.755104e+07  5.136436e+07  \n",
       "std      575.619058      0.935142     12.812941  3.430616e+07  1.446325e+08  \n",
       "min       10.000000      1.500000   1960.000000  0.000000e+00  0.000000e+00  \n",
       "25%       17.000000      5.400000   1995.000000  0.000000e+00  0.000000e+00  \n",
       "50%       38.000000      6.000000   2006.000000  0.000000e+00  0.000000e+00  \n",
       "75%      145.750000      6.600000   2011.000000  2.085325e+07  3.369710e+07  \n",
       "max     9767.000000      9.200000   2015.000000  4.250000e+08  2.827124e+09  "
      ]
     },
     "execution_count": 3,
     "metadata": {},
     "output_type": "execute_result"
    }
   ],
   "source": [
    "df.describe()"
   ]
  },
  {
   "cell_type": "code",
   "execution_count": 4,
   "metadata": {},
   "outputs": [
    {
     "data": {
      "text/plain": [
       "(10866, 21)"
      ]
     },
     "execution_count": 4,
     "metadata": {},
     "output_type": "execute_result"
    }
   ],
   "source": [
    "df.shape"
   ]
  },
  {
   "cell_type": "markdown",
   "metadata": {},
   "source": [
    ">We have here 10866 rows and 21 columns."
   ]
  },
  {
   "cell_type": "code",
   "execution_count": 5,
   "metadata": {},
   "outputs": [
    {
     "name": "stdout",
     "output_type": "stream",
     "text": [
      "<class 'pandas.core.frame.DataFrame'>\n",
      "RangeIndex: 10866 entries, 0 to 10865\n",
      "Data columns (total 21 columns):\n",
      " #   Column                Non-Null Count  Dtype  \n",
      "---  ------                --------------  -----  \n",
      " 0   id                    10866 non-null  int64  \n",
      " 1   imdb_id               10856 non-null  object \n",
      " 2   popularity            10866 non-null  float64\n",
      " 3   budget                10866 non-null  int64  \n",
      " 4   revenue               10866 non-null  int64  \n",
      " 5   original_title        10866 non-null  object \n",
      " 6   cast                  10790 non-null  object \n",
      " 7   homepage              2936 non-null   object \n",
      " 8   director              10822 non-null  object \n",
      " 9   tagline               8042 non-null   object \n",
      " 10  keywords              9373 non-null   object \n",
      " 11  overview              10862 non-null  object \n",
      " 12  runtime               10866 non-null  int64  \n",
      " 13  genres                10843 non-null  object \n",
      " 14  production_companies  9836 non-null   object \n",
      " 15  release_date          10866 non-null  object \n",
      " 16  vote_count            10866 non-null  int64  \n",
      " 17  vote_average          10866 non-null  float64\n",
      " 18  release_year          10866 non-null  int64  \n",
      " 19  budget_adj            10866 non-null  float64\n",
      " 20  revenue_adj           10866 non-null  float64\n",
      "dtypes: float64(4), int64(6), object(11)\n",
      "memory usage: 1.7+ MB\n"
     ]
    }
   ],
   "source": [
    "df.info()"
   ]
  },
  {
   "cell_type": "markdown",
   "metadata": {},
   "source": [
    "we will drop the null values"
   ]
  },
  {
   "cell_type": "markdown",
   "metadata": {},
   "source": [
    "### Let's make the dataset more useable for the analysis"
   ]
  },
  {
   "cell_type": "code",
   "execution_count": 6,
   "metadata": {},
   "outputs": [],
   "source": [
    "#droping the columns\n",
    "columns_drop=['id','imdb_id','popularity','homepage','director' , 'tagline','vote_count', 'keywords', 'overview', 'production_companies', 'budget_adj', 'revenue_adj']\n",
    "df.drop(columns_drop, axis =1 , inplace = True)"
   ]
  },
  {
   "cell_type": "markdown",
   "metadata": {},
   "source": [
    ">The columns are reduced to 9 columns now"
   ]
  },
  {
   "cell_type": "markdown",
   "metadata": {},
   "source": [
    " "
   ]
  },
  {
   "cell_type": "markdown",
   "metadata": {},
   "source": [
    "Now we will check for duplicated values and null values"
   ]
  },
  {
   "cell_type": "code",
   "execution_count": 11,
   "metadata": {},
   "outputs": [
    {
     "data": {
      "text/html": [
       "<div>\n",
       "<style scoped>\n",
       "    .dataframe tbody tr th:only-of-type {\n",
       "        vertical-align: middle;\n",
       "    }\n",
       "\n",
       "    .dataframe tbody tr th {\n",
       "        vertical-align: top;\n",
       "    }\n",
       "\n",
       "    .dataframe thead th {\n",
       "        text-align: right;\n",
       "    }\n",
       "</style>\n",
       "<table border=\"1\" class=\"dataframe\">\n",
       "  <thead>\n",
       "    <tr style=\"text-align: right;\">\n",
       "      <th></th>\n",
       "      <th>budget</th>\n",
       "      <th>revenue</th>\n",
       "      <th>original_title</th>\n",
       "      <th>cast</th>\n",
       "      <th>runtime</th>\n",
       "      <th>genres</th>\n",
       "      <th>release_date</th>\n",
       "      <th>vote_average</th>\n",
       "      <th>release_year</th>\n",
       "    </tr>\n",
       "  </thead>\n",
       "  <tbody>\n",
       "    <tr>\n",
       "      <th>2090</th>\n",
       "      <td>30000000</td>\n",
       "      <td>967000</td>\n",
       "      <td>TEKKEN</td>\n",
       "      <td>Jon Foo|Kelly Overton|Cary-Hiroyuki Tagawa|Ian...</td>\n",
       "      <td>92</td>\n",
       "      <td>Crime|Drama|Action|Thriller|Science Fiction</td>\n",
       "      <td>3/20/10</td>\n",
       "      <td>5.0</td>\n",
       "      <td>2010</td>\n",
       "    </tr>\n",
       "  </tbody>\n",
       "</table>\n",
       "</div>"
      ],
      "text/plain": [
       "        budget  revenue original_title  \\\n",
       "2090  30000000   967000         TEKKEN   \n",
       "\n",
       "                                                   cast  runtime  \\\n",
       "2090  Jon Foo|Kelly Overton|Cary-Hiroyuki Tagawa|Ian...       92   \n",
       "\n",
       "                                           genres release_date  vote_average  \\\n",
       "2090  Crime|Drama|Action|Thriller|Science Fiction      3/20/10           5.0   \n",
       "\n",
       "      release_year  \n",
       "2090          2010  "
      ]
     },
     "execution_count": 11,
     "metadata": {},
     "output_type": "execute_result"
    }
   ],
   "source": [
    "df[df.duplicated()]"
   ]
  },
  {
   "cell_type": "markdown",
   "metadata": {},
   "source": [
    "We have only one duplicated value. I'm going to remove one of them and keep the other."
   ]
  },
  {
   "cell_type": "code",
   "execution_count": 12,
   "metadata": {},
   "outputs": [],
   "source": [
    "df.drop_duplicates(keep='first',inplace=True)"
   ]
  },
  {
   "cell_type": "markdown",
   "metadata": {},
   "source": [
    "Now we have no duplicated values"
   ]
  },
  {
   "cell_type": "code",
   "execution_count": 13,
   "metadata": {},
   "outputs": [
    {
     "data": {
      "text/html": [
       "<div>\n",
       "<style scoped>\n",
       "    .dataframe tbody tr th:only-of-type {\n",
       "        vertical-align: middle;\n",
       "    }\n",
       "\n",
       "    .dataframe tbody tr th {\n",
       "        vertical-align: top;\n",
       "    }\n",
       "\n",
       "    .dataframe thead th {\n",
       "        text-align: right;\n",
       "    }\n",
       "</style>\n",
       "<table border=\"1\" class=\"dataframe\">\n",
       "  <thead>\n",
       "    <tr style=\"text-align: right;\">\n",
       "      <th></th>\n",
       "      <th>budget</th>\n",
       "      <th>revenue</th>\n",
       "      <th>original_title</th>\n",
       "      <th>cast</th>\n",
       "      <th>runtime</th>\n",
       "      <th>genres</th>\n",
       "      <th>release_date</th>\n",
       "      <th>vote_average</th>\n",
       "      <th>release_year</th>\n",
       "    </tr>\n",
       "  </thead>\n",
       "  <tbody>\n",
       "  </tbody>\n",
       "</table>\n",
       "</div>"
      ],
      "text/plain": [
       "Empty DataFrame\n",
       "Columns: [budget, revenue, original_title, cast, runtime, genres, release_date, vote_average, release_year]\n",
       "Index: []"
      ]
     },
     "execution_count": 13,
     "metadata": {},
     "output_type": "execute_result"
    }
   ],
   "source": [
    "df[df.duplicated()]"
   ]
  },
  {
   "cell_type": "markdown",
   "metadata": {},
   "source": [
    "Let's check for the null values"
   ]
  },
  {
   "cell_type": "code",
   "execution_count": 14,
   "metadata": {},
   "outputs": [
    {
     "data": {
      "text/plain": [
       "budget             0\n",
       "revenue            0\n",
       "original_title     0\n",
       "cast              76\n",
       "runtime            0\n",
       "genres            23\n",
       "release_date       0\n",
       "vote_average       0\n",
       "release_year       0\n",
       "dtype: int64"
      ]
     },
     "execution_count": 14,
     "metadata": {},
     "output_type": "execute_result"
    }
   ],
   "source": [
    "df.isnull().sum()"
   ]
  },
  {
   "cell_type": "markdown",
   "metadata": {},
   "source": [
    ">Looks like we have 23 missing values in the genres column and 76 in the cast column"
   ]
  },
  {
   "cell_type": "code",
   "execution_count": 15,
   "metadata": {},
   "outputs": [
    {
     "data": {
      "text/html": [
       "<div>\n",
       "<style scoped>\n",
       "    .dataframe tbody tr th:only-of-type {\n",
       "        vertical-align: middle;\n",
       "    }\n",
       "\n",
       "    .dataframe tbody tr th {\n",
       "        vertical-align: top;\n",
       "    }\n",
       "\n",
       "    .dataframe thead th {\n",
       "        text-align: right;\n",
       "    }\n",
       "</style>\n",
       "<table border=\"1\" class=\"dataframe\">\n",
       "  <thead>\n",
       "    <tr style=\"text-align: right;\">\n",
       "      <th></th>\n",
       "      <th>budget</th>\n",
       "      <th>revenue</th>\n",
       "      <th>original_title</th>\n",
       "      <th>cast</th>\n",
       "      <th>runtime</th>\n",
       "      <th>genres</th>\n",
       "      <th>release_date</th>\n",
       "      <th>vote_average</th>\n",
       "      <th>release_year</th>\n",
       "    </tr>\n",
       "  </thead>\n",
       "  <tbody>\n",
       "    <tr>\n",
       "      <th>424</th>\n",
       "      <td>0</td>\n",
       "      <td>0</td>\n",
       "      <td>Belli di papÃ</td>\n",
       "      <td>Diego Abatantuono|Matilde Gioli|Andrea Pisani|...</td>\n",
       "      <td>100</td>\n",
       "      <td>NaN</td>\n",
       "      <td>10/29/15</td>\n",
       "      <td>6.1</td>\n",
       "      <td>2015</td>\n",
       "    </tr>\n",
       "    <tr>\n",
       "      <th>620</th>\n",
       "      <td>0</td>\n",
       "      <td>0</td>\n",
       "      <td>All Hallows' Eve 2</td>\n",
       "      <td>NaN</td>\n",
       "      <td>90</td>\n",
       "      <td>NaN</td>\n",
       "      <td>10/6/15</td>\n",
       "      <td>5.0</td>\n",
       "      <td>2015</td>\n",
       "    </tr>\n",
       "    <tr>\n",
       "      <th>997</th>\n",
       "      <td>0</td>\n",
       "      <td>0</td>\n",
       "      <td>Star Wars Rebels: Spark of Rebellion</td>\n",
       "      <td>Freddie Prinze Jr.|Vanessa Marshall|Steve Blum...</td>\n",
       "      <td>44</td>\n",
       "      <td>NaN</td>\n",
       "      <td>10/3/14</td>\n",
       "      <td>6.8</td>\n",
       "      <td>2014</td>\n",
       "    </tr>\n",
       "    <tr>\n",
       "      <th>1712</th>\n",
       "      <td>0</td>\n",
       "      <td>0</td>\n",
       "      <td>Prayers for Bobby</td>\n",
       "      <td>Ryan Kelley|Sigourney Weaver|Henry Czerny|Dan ...</td>\n",
       "      <td>88</td>\n",
       "      <td>NaN</td>\n",
       "      <td>2/27/09</td>\n",
       "      <td>7.4</td>\n",
       "      <td>2009</td>\n",
       "    </tr>\n",
       "    <tr>\n",
       "      <th>1897</th>\n",
       "      <td>0</td>\n",
       "      <td>0</td>\n",
       "      <td>Jonas Brothers: The Concert Experience</td>\n",
       "      <td>Nick Jonas|Joe Jonas|Kevin Jonas|John Lloyd Ta...</td>\n",
       "      <td>76</td>\n",
       "      <td>NaN</td>\n",
       "      <td>2/27/09</td>\n",
       "      <td>7.0</td>\n",
       "      <td>2009</td>\n",
       "    </tr>\n",
       "    <tr>\n",
       "      <th>2370</th>\n",
       "      <td>0</td>\n",
       "      <td>0</td>\n",
       "      <td>Freshman Father</td>\n",
       "      <td>Britt Irvin|Merrilyn Gann|Barbara Tyson|Anthon...</td>\n",
       "      <td>0</td>\n",
       "      <td>NaN</td>\n",
       "      <td>6/5/10</td>\n",
       "      <td>5.8</td>\n",
       "      <td>2010</td>\n",
       "    </tr>\n",
       "    <tr>\n",
       "      <th>2376</th>\n",
       "      <td>0</td>\n",
       "      <td>0</td>\n",
       "      <td>Doctor Who: A Christmas Carol</td>\n",
       "      <td>Matt Smith|Karen Gillan|Arthur Darvill|Michael...</td>\n",
       "      <td>62</td>\n",
       "      <td>NaN</td>\n",
       "      <td>12/25/10</td>\n",
       "      <td>7.7</td>\n",
       "      <td>2010</td>\n",
       "    </tr>\n",
       "    <tr>\n",
       "      <th>2853</th>\n",
       "      <td>0</td>\n",
       "      <td>0</td>\n",
       "      <td>Vizontele</td>\n",
       "      <td>YÄ±lmaz ErdoÄŸan|Demet Akbag|Altan Erkekli|Cem...</td>\n",
       "      <td>110</td>\n",
       "      <td>NaN</td>\n",
       "      <td>2/2/01</td>\n",
       "      <td>7.2</td>\n",
       "      <td>2001</td>\n",
       "    </tr>\n",
       "    <tr>\n",
       "      <th>3279</th>\n",
       "      <td>0</td>\n",
       "      <td>0</td>\n",
       "      <td>ì•„ê¸°ì™€ ë‚˜</td>\n",
       "      <td>Jang Keun-suk|Song Ha-yoon|Kim Jeong-Nan</td>\n",
       "      <td>96</td>\n",
       "      <td>NaN</td>\n",
       "      <td>8/13/08</td>\n",
       "      <td>6.1</td>\n",
       "      <td>2008</td>\n",
       "    </tr>\n",
       "    <tr>\n",
       "      <th>4547</th>\n",
       "      <td>0</td>\n",
       "      <td>0</td>\n",
       "      <td>London 2012 Olympic Opening Ceremony: Isles of...</td>\n",
       "      <td>Queen Elizabeth II|Mike Oldfield|Kenneth Brana...</td>\n",
       "      <td>220</td>\n",
       "      <td>NaN</td>\n",
       "      <td>7/27/12</td>\n",
       "      <td>8.3</td>\n",
       "      <td>2012</td>\n",
       "    </tr>\n",
       "    <tr>\n",
       "      <th>4732</th>\n",
       "      <td>0</td>\n",
       "      <td>0</td>\n",
       "      <td>The Scapegoat</td>\n",
       "      <td>Andrew Scott|Jodhi May|Eileen Atkins|Matthew R...</td>\n",
       "      <td>100</td>\n",
       "      <td>NaN</td>\n",
       "      <td>9/9/12</td>\n",
       "      <td>6.2</td>\n",
       "      <td>2012</td>\n",
       "    </tr>\n",
       "    <tr>\n",
       "      <th>4797</th>\n",
       "      <td>0</td>\n",
       "      <td>0</td>\n",
       "      <td>Doctor Who: The Snowmen</td>\n",
       "      <td>Matt Smith|Jenna Coleman|Richard E. Grant|Ian ...</td>\n",
       "      <td>60</td>\n",
       "      <td>NaN</td>\n",
       "      <td>12/25/12</td>\n",
       "      <td>7.8</td>\n",
       "      <td>2012</td>\n",
       "    </tr>\n",
       "    <tr>\n",
       "      <th>4890</th>\n",
       "      <td>0</td>\n",
       "      <td>0</td>\n",
       "      <td>Cousin Ben Troop Screening</td>\n",
       "      <td>Jason Schwartzman</td>\n",
       "      <td>2</td>\n",
       "      <td>NaN</td>\n",
       "      <td>1/1/12</td>\n",
       "      <td>7.0</td>\n",
       "      <td>2012</td>\n",
       "    </tr>\n",
       "    <tr>\n",
       "      <th>5830</th>\n",
       "      <td>0</td>\n",
       "      <td>0</td>\n",
       "      <td>Doctor Who: The Time of the Doctor</td>\n",
       "      <td>Matt Smith|Jenna Coleman</td>\n",
       "      <td>60</td>\n",
       "      <td>NaN</td>\n",
       "      <td>12/25/13</td>\n",
       "      <td>8.5</td>\n",
       "      <td>2013</td>\n",
       "    </tr>\n",
       "    <tr>\n",
       "      <th>5934</th>\n",
       "      <td>0</td>\n",
       "      <td>0</td>\n",
       "      <td>Prada: Candy</td>\n",
       "      <td>Peter Gadiot|Rodolphe Pauly|LÃ©a Seydoux</td>\n",
       "      <td>3</td>\n",
       "      <td>NaN</td>\n",
       "      <td>3/25/13</td>\n",
       "      <td>6.9</td>\n",
       "      <td>2013</td>\n",
       "    </tr>\n",
       "    <tr>\n",
       "      <th>6043</th>\n",
       "      <td>0</td>\n",
       "      <td>0</td>\n",
       "      <td>Bombay Talkies</td>\n",
       "      <td>Aamir Khan|Rani Mukerji|Randeep Hooda|Saqib Sa...</td>\n",
       "      <td>127</td>\n",
       "      <td>NaN</td>\n",
       "      <td>5/3/13</td>\n",
       "      <td>5.9</td>\n",
       "      <td>2013</td>\n",
       "    </tr>\n",
       "    <tr>\n",
       "      <th>6530</th>\n",
       "      <td>0</td>\n",
       "      <td>0</td>\n",
       "      <td>Saw Rebirth</td>\n",
       "      <td>Whit Anderson|Stan Kirsch|Jeff Shuter|George W...</td>\n",
       "      <td>6</td>\n",
       "      <td>NaN</td>\n",
       "      <td>10/24/05</td>\n",
       "      <td>5.9</td>\n",
       "      <td>2005</td>\n",
       "    </tr>\n",
       "    <tr>\n",
       "      <th>8234</th>\n",
       "      <td>0</td>\n",
       "      <td>0</td>\n",
       "      <td>Viaggi di nozze</td>\n",
       "      <td>Carlo Verdone|Claudia Gerini|Veronica Pivetti|...</td>\n",
       "      <td>103</td>\n",
       "      <td>NaN</td>\n",
       "      <td>12/15/95</td>\n",
       "      <td>6.7</td>\n",
       "      <td>1995</td>\n",
       "    </tr>\n",
       "    <tr>\n",
       "      <th>8614</th>\n",
       "      <td>0</td>\n",
       "      <td>0</td>\n",
       "      <td>T2 3-D: Battle Across Time</td>\n",
       "      <td>Arnold Schwarzenegger|Linda Hamilton|Edward Fu...</td>\n",
       "      <td>12</td>\n",
       "      <td>NaN</td>\n",
       "      <td>1/1/96</td>\n",
       "      <td>6.7</td>\n",
       "      <td>1996</td>\n",
       "    </tr>\n",
       "    <tr>\n",
       "      <th>8878</th>\n",
       "      <td>0</td>\n",
       "      <td>0</td>\n",
       "      <td>Mom's Got a Date With a Vampire</td>\n",
       "      <td>Matt O'Leary|Laura Vandervoort|Myles Jeffrey|C...</td>\n",
       "      <td>85</td>\n",
       "      <td>NaN</td>\n",
       "      <td>10/13/00</td>\n",
       "      <td>5.4</td>\n",
       "      <td>2000</td>\n",
       "    </tr>\n",
       "    <tr>\n",
       "      <th>9307</th>\n",
       "      <td>0</td>\n",
       "      <td>0</td>\n",
       "      <td>Goldeneye</td>\n",
       "      <td>Charles Dance|Phyllis Logan|Patrick Ryecart|La...</td>\n",
       "      <td>105</td>\n",
       "      <td>NaN</td>\n",
       "      <td>8/26/89</td>\n",
       "      <td>5.3</td>\n",
       "      <td>1989</td>\n",
       "    </tr>\n",
       "    <tr>\n",
       "      <th>9799</th>\n",
       "      <td>0</td>\n",
       "      <td>0</td>\n",
       "      <td>The Amputee</td>\n",
       "      <td>Catherine E. Coulson|David Lynch</td>\n",
       "      <td>5</td>\n",
       "      <td>NaN</td>\n",
       "      <td>1/1/74</td>\n",
       "      <td>5.0</td>\n",
       "      <td>1974</td>\n",
       "    </tr>\n",
       "    <tr>\n",
       "      <th>10659</th>\n",
       "      <td>5000</td>\n",
       "      <td>0</td>\n",
       "      <td>The Party at Kitty and Stud's</td>\n",
       "      <td>Sylvester Stallone|Henrietta Holm|Nicholas War...</td>\n",
       "      <td>71</td>\n",
       "      <td>NaN</td>\n",
       "      <td>2/10/70</td>\n",
       "      <td>3.0</td>\n",
       "      <td>1970</td>\n",
       "    </tr>\n",
       "  </tbody>\n",
       "</table>\n",
       "</div>"
      ],
      "text/plain": [
       "       budget  revenue                                     original_title  \\\n",
       "424         0        0                                     Belli di papÃ    \n",
       "620         0        0                                 All Hallows' Eve 2   \n",
       "997         0        0               Star Wars Rebels: Spark of Rebellion   \n",
       "1712        0        0                                  Prayers for Bobby   \n",
       "1897        0        0             Jonas Brothers: The Concert Experience   \n",
       "2370        0        0                                    Freshman Father   \n",
       "2376        0        0                      Doctor Who: A Christmas Carol   \n",
       "2853        0        0                                          Vizontele   \n",
       "3279        0        0                                      ì•„ê¸°ì™€ ë‚˜   \n",
       "4547        0        0  London 2012 Olympic Opening Ceremony: Isles of...   \n",
       "4732        0        0                                      The Scapegoat   \n",
       "4797        0        0                            Doctor Who: The Snowmen   \n",
       "4890        0        0                         Cousin Ben Troop Screening   \n",
       "5830        0        0                 Doctor Who: The Time of the Doctor   \n",
       "5934        0        0                                       Prada: Candy   \n",
       "6043        0        0                                     Bombay Talkies   \n",
       "6530        0        0                                        Saw Rebirth   \n",
       "8234        0        0                                    Viaggi di nozze   \n",
       "8614        0        0                         T2 3-D: Battle Across Time   \n",
       "8878        0        0                    Mom's Got a Date With a Vampire   \n",
       "9307        0        0                                          Goldeneye   \n",
       "9799        0        0                                        The Amputee   \n",
       "10659    5000        0                      The Party at Kitty and Stud's   \n",
       "\n",
       "                                                    cast  runtime genres  \\\n",
       "424    Diego Abatantuono|Matilde Gioli|Andrea Pisani|...      100    NaN   \n",
       "620                                                  NaN       90    NaN   \n",
       "997    Freddie Prinze Jr.|Vanessa Marshall|Steve Blum...       44    NaN   \n",
       "1712   Ryan Kelley|Sigourney Weaver|Henry Czerny|Dan ...       88    NaN   \n",
       "1897   Nick Jonas|Joe Jonas|Kevin Jonas|John Lloyd Ta...       76    NaN   \n",
       "2370   Britt Irvin|Merrilyn Gann|Barbara Tyson|Anthon...        0    NaN   \n",
       "2376   Matt Smith|Karen Gillan|Arthur Darvill|Michael...       62    NaN   \n",
       "2853   YÄ±lmaz ErdoÄŸan|Demet Akbag|Altan Erkekli|Cem...      110    NaN   \n",
       "3279            Jang Keun-suk|Song Ha-yoon|Kim Jeong-Nan       96    NaN   \n",
       "4547   Queen Elizabeth II|Mike Oldfield|Kenneth Brana...      220    NaN   \n",
       "4732   Andrew Scott|Jodhi May|Eileen Atkins|Matthew R...      100    NaN   \n",
       "4797   Matt Smith|Jenna Coleman|Richard E. Grant|Ian ...       60    NaN   \n",
       "4890                                   Jason Schwartzman        2    NaN   \n",
       "5830                            Matt Smith|Jenna Coleman       60    NaN   \n",
       "5934            Peter Gadiot|Rodolphe Pauly|LÃ©a Seydoux        3    NaN   \n",
       "6043   Aamir Khan|Rani Mukerji|Randeep Hooda|Saqib Sa...      127    NaN   \n",
       "6530   Whit Anderson|Stan Kirsch|Jeff Shuter|George W...        6    NaN   \n",
       "8234   Carlo Verdone|Claudia Gerini|Veronica Pivetti|...      103    NaN   \n",
       "8614   Arnold Schwarzenegger|Linda Hamilton|Edward Fu...       12    NaN   \n",
       "8878   Matt O'Leary|Laura Vandervoort|Myles Jeffrey|C...       85    NaN   \n",
       "9307   Charles Dance|Phyllis Logan|Patrick Ryecart|La...      105    NaN   \n",
       "9799                    Catherine E. Coulson|David Lynch        5    NaN   \n",
       "10659  Sylvester Stallone|Henrietta Holm|Nicholas War...       71    NaN   \n",
       "\n",
       "      release_date  vote_average  release_year  \n",
       "424       10/29/15           6.1          2015  \n",
       "620        10/6/15           5.0          2015  \n",
       "997        10/3/14           6.8          2014  \n",
       "1712       2/27/09           7.4          2009  \n",
       "1897       2/27/09           7.0          2009  \n",
       "2370        6/5/10           5.8          2010  \n",
       "2376      12/25/10           7.7          2010  \n",
       "2853        2/2/01           7.2          2001  \n",
       "3279       8/13/08           6.1          2008  \n",
       "4547       7/27/12           8.3          2012  \n",
       "4732        9/9/12           6.2          2012  \n",
       "4797      12/25/12           7.8          2012  \n",
       "4890        1/1/12           7.0          2012  \n",
       "5830      12/25/13           8.5          2013  \n",
       "5934       3/25/13           6.9          2013  \n",
       "6043        5/3/13           5.9          2013  \n",
       "6530      10/24/05           5.9          2005  \n",
       "8234      12/15/95           6.7          1995  \n",
       "8614        1/1/96           6.7          1996  \n",
       "8878      10/13/00           5.4          2000  \n",
       "9307       8/26/89           5.3          1989  \n",
       "9799        1/1/74           5.0          1974  \n",
       "10659      2/10/70           3.0          1970  "
      ]
     },
     "execution_count": 15,
     "metadata": {},
     "output_type": "execute_result"
    }
   ],
   "source": [
    "df[df.genres.isnull()]"
   ]
  },
  {
   "cell_type": "markdown",
   "metadata": {},
   "source": [
    "The best thing to do with these null values is to remove them. Removing them won't affect the data analysis process"
   ]
  },
  {
   "cell_type": "code",
   "execution_count": 16,
   "metadata": {},
   "outputs": [
    {
     "data": {
      "text/html": [
       "<div>\n",
       "<style scoped>\n",
       "    .dataframe tbody tr th:only-of-type {\n",
       "        vertical-align: middle;\n",
       "    }\n",
       "\n",
       "    .dataframe tbody tr th {\n",
       "        vertical-align: top;\n",
       "    }\n",
       "\n",
       "    .dataframe thead th {\n",
       "        text-align: right;\n",
       "    }\n",
       "</style>\n",
       "<table border=\"1\" class=\"dataframe\">\n",
       "  <thead>\n",
       "    <tr style=\"text-align: right;\">\n",
       "      <th></th>\n",
       "      <th>budget</th>\n",
       "      <th>revenue</th>\n",
       "      <th>original_title</th>\n",
       "      <th>cast</th>\n",
       "      <th>runtime</th>\n",
       "      <th>genres</th>\n",
       "      <th>release_date</th>\n",
       "      <th>vote_average</th>\n",
       "      <th>release_year</th>\n",
       "    </tr>\n",
       "  </thead>\n",
       "  <tbody>\n",
       "  </tbody>\n",
       "</table>\n",
       "</div>"
      ],
      "text/plain": [
       "Empty DataFrame\n",
       "Columns: [budget, revenue, original_title, cast, runtime, genres, release_date, vote_average, release_year]\n",
       "Index: []"
      ]
     },
     "execution_count": 16,
     "metadata": {},
     "output_type": "execute_result"
    }
   ],
   "source": [
    "#removing the rows which have the null values\n",
    "df.dropna(subset = [\"genres\"], inplace=True)\n",
    "df[df.genres.isnull()]"
   ]
  },
  {
   "cell_type": "markdown",
   "metadata": {},
   "source": [
    "We will do the same thing for the cast column"
   ]
  },
  {
   "cell_type": "code",
   "execution_count": 17,
   "metadata": {},
   "outputs": [
    {
     "data": {
      "text/html": [
       "<div>\n",
       "<style scoped>\n",
       "    .dataframe tbody tr th:only-of-type {\n",
       "        vertical-align: middle;\n",
       "    }\n",
       "\n",
       "    .dataframe tbody tr th {\n",
       "        vertical-align: top;\n",
       "    }\n",
       "\n",
       "    .dataframe thead th {\n",
       "        text-align: right;\n",
       "    }\n",
       "</style>\n",
       "<table border=\"1\" class=\"dataframe\">\n",
       "  <thead>\n",
       "    <tr style=\"text-align: right;\">\n",
       "      <th></th>\n",
       "      <th>budget</th>\n",
       "      <th>revenue</th>\n",
       "      <th>original_title</th>\n",
       "      <th>cast</th>\n",
       "      <th>runtime</th>\n",
       "      <th>genres</th>\n",
       "      <th>release_date</th>\n",
       "      <th>vote_average</th>\n",
       "      <th>release_year</th>\n",
       "    </tr>\n",
       "  </thead>\n",
       "  <tbody>\n",
       "    <tr>\n",
       "      <th>371</th>\n",
       "      <td>0</td>\n",
       "      <td>0</td>\n",
       "      <td>Sanjay's Super Team</td>\n",
       "      <td>NaN</td>\n",
       "      <td>7</td>\n",
       "      <td>Animation</td>\n",
       "      <td>11/25/15</td>\n",
       "      <td>6.9</td>\n",
       "      <td>2015</td>\n",
       "    </tr>\n",
       "    <tr>\n",
       "      <th>441</th>\n",
       "      <td>0</td>\n",
       "      <td>0</td>\n",
       "      <td>Winter on Fire: Ukraine's Fight for Freedom</td>\n",
       "      <td>NaN</td>\n",
       "      <td>98</td>\n",
       "      <td>Documentary</td>\n",
       "      <td>10/9/15</td>\n",
       "      <td>8.2</td>\n",
       "      <td>2015</td>\n",
       "    </tr>\n",
       "    <tr>\n",
       "      <th>465</th>\n",
       "      <td>0</td>\n",
       "      <td>0</td>\n",
       "      <td>Bitter Lake</td>\n",
       "      <td>NaN</td>\n",
       "      <td>135</td>\n",
       "      <td>Documentary</td>\n",
       "      <td>1/24/15</td>\n",
       "      <td>7.8</td>\n",
       "      <td>2015</td>\n",
       "    </tr>\n",
       "    <tr>\n",
       "      <th>536</th>\n",
       "      <td>0</td>\n",
       "      <td>0</td>\n",
       "      <td>A Faster Horse</td>\n",
       "      <td>NaN</td>\n",
       "      <td>90</td>\n",
       "      <td>Documentary</td>\n",
       "      <td>10/8/15</td>\n",
       "      <td>8.0</td>\n",
       "      <td>2015</td>\n",
       "    </tr>\n",
       "    <tr>\n",
       "      <th>538</th>\n",
       "      <td>0</td>\n",
       "      <td>0</td>\n",
       "      <td>The Mask You Live In</td>\n",
       "      <td>NaN</td>\n",
       "      <td>88</td>\n",
       "      <td>Documentary</td>\n",
       "      <td>1/1/15</td>\n",
       "      <td>8.9</td>\n",
       "      <td>2015</td>\n",
       "    </tr>\n",
       "    <tr>\n",
       "      <th>...</th>\n",
       "      <td>...</td>\n",
       "      <td>...</td>\n",
       "      <td>...</td>\n",
       "      <td>...</td>\n",
       "      <td>...</td>\n",
       "      <td>...</td>\n",
       "      <td>...</td>\n",
       "      <td>...</td>\n",
       "      <td>...</td>\n",
       "    </tr>\n",
       "    <tr>\n",
       "      <th>9677</th>\n",
       "      <td>0</td>\n",
       "      <td>0</td>\n",
       "      <td>Red's Dream</td>\n",
       "      <td>NaN</td>\n",
       "      <td>4</td>\n",
       "      <td>Animation</td>\n",
       "      <td>8/17/87</td>\n",
       "      <td>6.6</td>\n",
       "      <td>1987</td>\n",
       "    </tr>\n",
       "    <tr>\n",
       "      <th>9755</th>\n",
       "      <td>0</td>\n",
       "      <td>0</td>\n",
       "      <td>The Big Shave</td>\n",
       "      <td>NaN</td>\n",
       "      <td>6</td>\n",
       "      <td>Drama</td>\n",
       "      <td>1/1/68</td>\n",
       "      <td>6.7</td>\n",
       "      <td>1968</td>\n",
       "    </tr>\n",
       "    <tr>\n",
       "      <th>10434</th>\n",
       "      <td>200</td>\n",
       "      <td>0</td>\n",
       "      <td>Six Men Getting Sick</td>\n",
       "      <td>NaN</td>\n",
       "      <td>4</td>\n",
       "      <td>Animation</td>\n",
       "      <td>1/1/67</td>\n",
       "      <td>5.2</td>\n",
       "      <td>1967</td>\n",
       "    </tr>\n",
       "    <tr>\n",
       "      <th>10550</th>\n",
       "      <td>0</td>\n",
       "      <td>0</td>\n",
       "      <td>Luxo Jr.</td>\n",
       "      <td>NaN</td>\n",
       "      <td>2</td>\n",
       "      <td>Animation|Family</td>\n",
       "      <td>8/17/86</td>\n",
       "      <td>7.3</td>\n",
       "      <td>1986</td>\n",
       "    </tr>\n",
       "    <tr>\n",
       "      <th>10754</th>\n",
       "      <td>0</td>\n",
       "      <td>0</td>\n",
       "      <td>Bambi Meets Godzilla</td>\n",
       "      <td>NaN</td>\n",
       "      <td>2</td>\n",
       "      <td>Animation|Comedy</td>\n",
       "      <td>1/1/69</td>\n",
       "      <td>5.6</td>\n",
       "      <td>1969</td>\n",
       "    </tr>\n",
       "  </tbody>\n",
       "</table>\n",
       "<p>75 rows × 9 columns</p>\n",
       "</div>"
      ],
      "text/plain": [
       "       budget  revenue                               original_title cast  \\\n",
       "371         0        0                          Sanjay's Super Team  NaN   \n",
       "441         0        0  Winter on Fire: Ukraine's Fight for Freedom  NaN   \n",
       "465         0        0                                  Bitter Lake  NaN   \n",
       "536         0        0                               A Faster Horse  NaN   \n",
       "538         0        0                         The Mask You Live In  NaN   \n",
       "...       ...      ...                                          ...  ...   \n",
       "9677        0        0                                  Red's Dream  NaN   \n",
       "9755        0        0                                The Big Shave  NaN   \n",
       "10434     200        0                         Six Men Getting Sick  NaN   \n",
       "10550       0        0                                     Luxo Jr.  NaN   \n",
       "10754       0        0                         Bambi Meets Godzilla  NaN   \n",
       "\n",
       "       runtime            genres release_date  vote_average  release_year  \n",
       "371          7         Animation     11/25/15           6.9          2015  \n",
       "441         98       Documentary      10/9/15           8.2          2015  \n",
       "465        135       Documentary      1/24/15           7.8          2015  \n",
       "536         90       Documentary      10/8/15           8.0          2015  \n",
       "538         88       Documentary       1/1/15           8.9          2015  \n",
       "...        ...               ...          ...           ...           ...  \n",
       "9677         4         Animation      8/17/87           6.6          1987  \n",
       "9755         6             Drama       1/1/68           6.7          1968  \n",
       "10434        4         Animation       1/1/67           5.2          1967  \n",
       "10550        2  Animation|Family      8/17/86           7.3          1986  \n",
       "10754        2  Animation|Comedy       1/1/69           5.6          1969  \n",
       "\n",
       "[75 rows x 9 columns]"
      ]
     },
     "execution_count": 17,
     "metadata": {},
     "output_type": "execute_result"
    }
   ],
   "source": [
    "df[df.cast.isnull()]"
   ]
  },
  {
   "cell_type": "code",
   "execution_count": 18,
   "metadata": {},
   "outputs": [
    {
     "data": {
      "text/html": [
       "<div>\n",
       "<style scoped>\n",
       "    .dataframe tbody tr th:only-of-type {\n",
       "        vertical-align: middle;\n",
       "    }\n",
       "\n",
       "    .dataframe tbody tr th {\n",
       "        vertical-align: top;\n",
       "    }\n",
       "\n",
       "    .dataframe thead th {\n",
       "        text-align: right;\n",
       "    }\n",
       "</style>\n",
       "<table border=\"1\" class=\"dataframe\">\n",
       "  <thead>\n",
       "    <tr style=\"text-align: right;\">\n",
       "      <th></th>\n",
       "      <th>budget</th>\n",
       "      <th>revenue</th>\n",
       "      <th>original_title</th>\n",
       "      <th>cast</th>\n",
       "      <th>runtime</th>\n",
       "      <th>genres</th>\n",
       "      <th>release_date</th>\n",
       "      <th>vote_average</th>\n",
       "      <th>release_year</th>\n",
       "    </tr>\n",
       "  </thead>\n",
       "  <tbody>\n",
       "  </tbody>\n",
       "</table>\n",
       "</div>"
      ],
      "text/plain": [
       "Empty DataFrame\n",
       "Columns: [budget, revenue, original_title, cast, runtime, genres, release_date, vote_average, release_year]\n",
       "Index: []"
      ]
     },
     "execution_count": 18,
     "metadata": {},
     "output_type": "execute_result"
    }
   ],
   "source": [
    "#droping the NaN's\n",
    "df.dropna(subset=['cast'],inplace=True)\n",
    "df[df.cast.isnull()]"
   ]
  },
  {
   "cell_type": "markdown",
   "metadata": {},
   "source": [
    "I don't think it's a right idea to have a 0 runtime in the dataset"
   ]
  },
  {
   "cell_type": "code",
   "execution_count": 19,
   "metadata": {},
   "outputs": [
    {
     "data": {
      "text/html": [
       "<div>\n",
       "<style scoped>\n",
       "    .dataframe tbody tr th:only-of-type {\n",
       "        vertical-align: middle;\n",
       "    }\n",
       "\n",
       "    .dataframe tbody tr th {\n",
       "        vertical-align: top;\n",
       "    }\n",
       "\n",
       "    .dataframe thead th {\n",
       "        text-align: right;\n",
       "    }\n",
       "</style>\n",
       "<table border=\"1\" class=\"dataframe\">\n",
       "  <thead>\n",
       "    <tr style=\"text-align: right;\">\n",
       "      <th></th>\n",
       "      <th>budget</th>\n",
       "      <th>revenue</th>\n",
       "      <th>original_title</th>\n",
       "      <th>cast</th>\n",
       "      <th>runtime</th>\n",
       "      <th>genres</th>\n",
       "      <th>release_date</th>\n",
       "      <th>vote_average</th>\n",
       "      <th>release_year</th>\n",
       "    </tr>\n",
       "  </thead>\n",
       "  <tbody>\n",
       "    <tr>\n",
       "      <th>92</th>\n",
       "      <td>0</td>\n",
       "      <td>0</td>\n",
       "      <td>Mythica: The Necromancer</td>\n",
       "      <td>Melanie Stone|Adam Johnson|Kevin Sorbo|Nicola ...</td>\n",
       "      <td>0</td>\n",
       "      <td>Fantasy|Action|Adventure</td>\n",
       "      <td>12/19/15</td>\n",
       "      <td>5.4</td>\n",
       "      <td>2015</td>\n",
       "    </tr>\n",
       "    <tr>\n",
       "      <th>334</th>\n",
       "      <td>0</td>\n",
       "      <td>0</td>\n",
       "      <td>Ronaldo</td>\n",
       "      <td>Cristiano Ronaldo</td>\n",
       "      <td>0</td>\n",
       "      <td>Documentary</td>\n",
       "      <td>11/9/15</td>\n",
       "      <td>6.5</td>\n",
       "      <td>2015</td>\n",
       "    </tr>\n",
       "    <tr>\n",
       "      <th>410</th>\n",
       "      <td>0</td>\n",
       "      <td>0</td>\n",
       "      <td>Anarchy Parlor</td>\n",
       "      <td>Robert LaSardo|Jordan James Smith|Sara Fabel|T...</td>\n",
       "      <td>0</td>\n",
       "      <td>Horror</td>\n",
       "      <td>1/1/15</td>\n",
       "      <td>5.6</td>\n",
       "      <td>2015</td>\n",
       "    </tr>\n",
       "    <tr>\n",
       "      <th>445</th>\n",
       "      <td>0</td>\n",
       "      <td>0</td>\n",
       "      <td>The Exorcism of Molly Hartley</td>\n",
       "      <td>Sarah Lind|Devon Sawa|Gina Holden|Peter MacNei...</td>\n",
       "      <td>0</td>\n",
       "      <td>Horror</td>\n",
       "      <td>10/9/15</td>\n",
       "      <td>5.0</td>\n",
       "      <td>2015</td>\n",
       "    </tr>\n",
       "    <tr>\n",
       "      <th>486</th>\n",
       "      <td>0</td>\n",
       "      <td>0</td>\n",
       "      <td>If There Be Thorns</td>\n",
       "      <td>Heather Graham|Jason Lewis|Rachael Carpani|Mas...</td>\n",
       "      <td>0</td>\n",
       "      <td>TV Movie|Drama</td>\n",
       "      <td>4/5/15</td>\n",
       "      <td>5.4</td>\n",
       "      <td>2015</td>\n",
       "    </tr>\n",
       "    <tr>\n",
       "      <th>595</th>\n",
       "      <td>0</td>\n",
       "      <td>0</td>\n",
       "      <td>Deep Dark</td>\n",
       "      <td>Sean McGrath|Denise Poirier|Anne Sorce|Tabor H...</td>\n",
       "      <td>0</td>\n",
       "      <td>Horror</td>\n",
       "      <td>1/1/15</td>\n",
       "      <td>4.6</td>\n",
       "      <td>2015</td>\n",
       "    </tr>\n",
       "    <tr>\n",
       "      <th>616</th>\n",
       "      <td>0</td>\n",
       "      <td>0</td>\n",
       "      <td>The Outfield</td>\n",
       "      <td>Cameron Dallas|Hamilton Nash Grier|Olivia Stuc...</td>\n",
       "      <td>0</td>\n",
       "      <td>Drama|Comedy</td>\n",
       "      <td>11/10/15</td>\n",
       "      <td>6.6</td>\n",
       "      <td>2015</td>\n",
       "    </tr>\n",
       "    <tr>\n",
       "      <th>1241</th>\n",
       "      <td>0</td>\n",
       "      <td>0</td>\n",
       "      <td>Dance-Off</td>\n",
       "      <td>Kathryn McCormick|Shane Harper|Finola Hughes|C...</td>\n",
       "      <td>0</td>\n",
       "      <td>Romance|Music|Comedy</td>\n",
       "      <td>1/1/14</td>\n",
       "      <td>5.7</td>\n",
       "      <td>2014</td>\n",
       "    </tr>\n",
       "    <tr>\n",
       "      <th>1289</th>\n",
       "      <td>3250000</td>\n",
       "      <td>0</td>\n",
       "      <td>Treehouse</td>\n",
       "      <td>J. Michael Trautmann|Dana Melanie|Daniel Fredr...</td>\n",
       "      <td>0</td>\n",
       "      <td>Thriller|Horror|Mystery</td>\n",
       "      <td>10/20/14</td>\n",
       "      <td>3.4</td>\n",
       "      <td>2014</td>\n",
       "    </tr>\n",
       "    <tr>\n",
       "      <th>1293</th>\n",
       "      <td>0</td>\n",
       "      <td>0</td>\n",
       "      <td>Tim Maia</td>\n",
       "      <td>Robson Nunes|BabÃº Santana|Alinne Moraes|CauÃ£...</td>\n",
       "      <td>0</td>\n",
       "      <td>Documentary|Drama|Music</td>\n",
       "      <td>10/30/14</td>\n",
       "      <td>6.0</td>\n",
       "      <td>2014</td>\n",
       "    </tr>\n",
       "    <tr>\n",
       "      <th>1849</th>\n",
       "      <td>0</td>\n",
       "      <td>0</td>\n",
       "      <td>Spectacular!</td>\n",
       "      <td>Nolan Gerard Funk|Jesse Moss|Britt Irvin|Tammi...</td>\n",
       "      <td>0</td>\n",
       "      <td>Drama|Music</td>\n",
       "      <td>2/16/09</td>\n",
       "      <td>5.2</td>\n",
       "      <td>2009</td>\n",
       "    </tr>\n",
       "    <tr>\n",
       "      <th>2315</th>\n",
       "      <td>0</td>\n",
       "      <td>0</td>\n",
       "      <td>Listen to Your Heart</td>\n",
       "      <td>Alexia Rasmussen|Kent Moran|Cybill Shepherd|Sh...</td>\n",
       "      <td>0</td>\n",
       "      <td>Drama|Music|Romance</td>\n",
       "      <td>8/14/10</td>\n",
       "      <td>7.3</td>\n",
       "      <td>2010</td>\n",
       "    </tr>\n",
       "    <tr>\n",
       "      <th>3329</th>\n",
       "      <td>0</td>\n",
       "      <td>0</td>\n",
       "      <td>Grande, grosso e Verdone</td>\n",
       "      <td>Carlo Verdone|Claudia Gerini|Eva Riccobono|Vit...</td>\n",
       "      <td>0</td>\n",
       "      <td>Family</td>\n",
       "      <td>3/7/08</td>\n",
       "      <td>5.3</td>\n",
       "      <td>2008</td>\n",
       "    </tr>\n",
       "    <tr>\n",
       "      <th>3794</th>\n",
       "      <td>0</td>\n",
       "      <td>0</td>\n",
       "      <td>Toi, moi, les autres</td>\n",
       "      <td>LeÃ¯la Bekhti|Benjamin Siksou|CÃ©cile Cassel|C...</td>\n",
       "      <td>0</td>\n",
       "      <td>Music|Romance</td>\n",
       "      <td>2/22/11</td>\n",
       "      <td>5.2</td>\n",
       "      <td>2011</td>\n",
       "    </tr>\n",
       "    <tr>\n",
       "      <th>3857</th>\n",
       "      <td>0</td>\n",
       "      <td>0</td>\n",
       "      <td>Cell 213</td>\n",
       "      <td>Bruce Greenwood|Eric Balfour|Michael Rooker|De...</td>\n",
       "      <td>0</td>\n",
       "      <td>Horror</td>\n",
       "      <td>6/10/11</td>\n",
       "      <td>5.2</td>\n",
       "      <td>2011</td>\n",
       "    </tr>\n",
       "    <tr>\n",
       "      <th>3884</th>\n",
       "      <td>0</td>\n",
       "      <td>0</td>\n",
       "      <td>eCupid</td>\n",
       "      <td>Houston Rhines|Andy Anderson|John Callahan|Gal...</td>\n",
       "      <td>0</td>\n",
       "      <td>Romance</td>\n",
       "      <td>6/23/11</td>\n",
       "      <td>4.6</td>\n",
       "      <td>2011</td>\n",
       "    </tr>\n",
       "    <tr>\n",
       "      <th>4063</th>\n",
       "      <td>6000000</td>\n",
       "      <td>0</td>\n",
       "      <td>Madea's Family Reunion</td>\n",
       "      <td>Tyler Perry|Blair Underwood|Lynn Whitfield|Bor...</td>\n",
       "      <td>0</td>\n",
       "      <td>Comedy</td>\n",
       "      <td>1/25/02</td>\n",
       "      <td>5.9</td>\n",
       "      <td>2002</td>\n",
       "    </tr>\n",
       "    <tr>\n",
       "      <th>4138</th>\n",
       "      <td>0</td>\n",
       "      <td>0</td>\n",
       "      <td>A Time for Dancing</td>\n",
       "      <td>Larisa Oleynik|Shiri Appleby|Peter Coyote|Patr...</td>\n",
       "      <td>0</td>\n",
       "      <td>Drama|Music</td>\n",
       "      <td>9/6/02</td>\n",
       "      <td>7.5</td>\n",
       "      <td>2002</td>\n",
       "    </tr>\n",
       "    <tr>\n",
       "      <th>4829</th>\n",
       "      <td>0</td>\n",
       "      <td>0</td>\n",
       "      <td>Rags</td>\n",
       "      <td>Keke Palmer|Avan Jogia|Drake Bell|Burkely Duff...</td>\n",
       "      <td>0</td>\n",
       "      <td>TV Movie|Comedy|Drama</td>\n",
       "      <td>5/28/12</td>\n",
       "      <td>5.7</td>\n",
       "      <td>2012</td>\n",
       "    </tr>\n",
       "    <tr>\n",
       "      <th>4944</th>\n",
       "      <td>0</td>\n",
       "      <td>0</td>\n",
       "      <td>How to Fall in Love</td>\n",
       "      <td>Brooke D'Orsay|Eric Mabius|Jody Thompson|Gina ...</td>\n",
       "      <td>0</td>\n",
       "      <td>Comedy|Romance|TV Movie</td>\n",
       "      <td>7/21/12</td>\n",
       "      <td>4.7</td>\n",
       "      <td>2012</td>\n",
       "    </tr>\n",
       "    <tr>\n",
       "      <th>5216</th>\n",
       "      <td>0</td>\n",
       "      <td>0</td>\n",
       "      <td>Madea's Class Reunion</td>\n",
       "      <td>Tyler Perry|Chandra Currelley|Cheryl Pepsii Ri...</td>\n",
       "      <td>0</td>\n",
       "      <td>Comedy|Music</td>\n",
       "      <td>6/25/03</td>\n",
       "      <td>6.9</td>\n",
       "      <td>2003</td>\n",
       "    </tr>\n",
       "    <tr>\n",
       "      <th>5695</th>\n",
       "      <td>0</td>\n",
       "      <td>0</td>\n",
       "      <td>Skinwalker Ranch</td>\n",
       "      <td>Steve Berg|Kyle Davis|Erin Cahill|Jon Gries|De...</td>\n",
       "      <td>0</td>\n",
       "      <td>Thriller|Horror|Science Fiction</td>\n",
       "      <td>10/30/13</td>\n",
       "      <td>4.3</td>\n",
       "      <td>2013</td>\n",
       "    </tr>\n",
       "    <tr>\n",
       "      <th>5920</th>\n",
       "      <td>0</td>\n",
       "      <td>0</td>\n",
       "      <td>The Food Guide to Love</td>\n",
       "      <td>Richard Coyle|Leonor Watling|GinÃ©s GarcÃ­a Mi...</td>\n",
       "      <td>0</td>\n",
       "      <td>Romance|Comedy</td>\n",
       "      <td>12/18/13</td>\n",
       "      <td>5.6</td>\n",
       "      <td>2013</td>\n",
       "    </tr>\n",
       "    <tr>\n",
       "      <th>5938</th>\n",
       "      <td>0</td>\n",
       "      <td>0</td>\n",
       "      <td>Go Goa Gone</td>\n",
       "      <td>Saif Ali Khan|Anand Tiwari|Vir Das|Pooja Gupta</td>\n",
       "      <td>0</td>\n",
       "      <td>Comedy|Horror</td>\n",
       "      <td>5/10/13</td>\n",
       "      <td>5.3</td>\n",
       "      <td>2013</td>\n",
       "    </tr>\n",
       "    <tr>\n",
       "      <th>5992</th>\n",
       "      <td>0</td>\n",
       "      <td>0</td>\n",
       "      <td>Amiche da morire</td>\n",
       "      <td>Claudia Gerini|Cristiana Capotondi|Sabrina Imp...</td>\n",
       "      <td>0</td>\n",
       "      <td>Romance|Crime|Comedy</td>\n",
       "      <td>3/7/13</td>\n",
       "      <td>5.5</td>\n",
       "      <td>2013</td>\n",
       "    </tr>\n",
       "    <tr>\n",
       "      <th>6040</th>\n",
       "      <td>0</td>\n",
       "      <td>0</td>\n",
       "      <td>The Vatican Exorcisms</td>\n",
       "      <td>Joe Marino</td>\n",
       "      <td>0</td>\n",
       "      <td>Horror|Documentary|Mystery</td>\n",
       "      <td>5/29/13</td>\n",
       "      <td>4.7</td>\n",
       "      <td>2013</td>\n",
       "    </tr>\n",
       "    <tr>\n",
       "      <th>6383</th>\n",
       "      <td>2000000</td>\n",
       "      <td>0</td>\n",
       "      <td>The 12 Dogs of Christmas</td>\n",
       "      <td>Jordan-Claire Green|Tom Kemp|Susan Wood|Adam H...</td>\n",
       "      <td>0</td>\n",
       "      <td>Drama|Family</td>\n",
       "      <td>11/1/05</td>\n",
       "      <td>4.7</td>\n",
       "      <td>2005</td>\n",
       "    </tr>\n",
       "    <tr>\n",
       "      <th>6552</th>\n",
       "      <td>0</td>\n",
       "      <td>0</td>\n",
       "      <td>Quatre Ã©toiles</td>\n",
       "      <td>JosÃ© Garcia|Isabelle CarrÃ©|RenÃ©e Le Calm|Fr...</td>\n",
       "      <td>0</td>\n",
       "      <td>Comedy</td>\n",
       "      <td>1/1/05</td>\n",
       "      <td>5.9</td>\n",
       "      <td>2005</td>\n",
       "    </tr>\n",
       "    <tr>\n",
       "      <th>6934</th>\n",
       "      <td>0</td>\n",
       "      <td>0</td>\n",
       "      <td>Jean-Philippe</td>\n",
       "      <td>Fabrice Luchini|Johnny Hallyday|Jackie Berroye...</td>\n",
       "      <td>0</td>\n",
       "      <td>Comedy</td>\n",
       "      <td>4/5/06</td>\n",
       "      <td>5.6</td>\n",
       "      <td>2006</td>\n",
       "    </tr>\n",
       "    <tr>\n",
       "      <th>8874</th>\n",
       "      <td>0</td>\n",
       "      <td>0</td>\n",
       "      <td>Mission Kashmir</td>\n",
       "      <td>Sanjay Dutt|Hrithik Roshan|Preity Zinta|Jackie...</td>\n",
       "      <td>0</td>\n",
       "      <td>Action|Drama|Foreign</td>\n",
       "      <td>10/27/00</td>\n",
       "      <td>5.7</td>\n",
       "      <td>2000</td>\n",
       "    </tr>\n",
       "  </tbody>\n",
       "</table>\n",
       "</div>"
      ],
      "text/plain": [
       "       budget  revenue                 original_title  \\\n",
       "92          0        0       Mythica: The Necromancer   \n",
       "334         0        0                        Ronaldo   \n",
       "410         0        0                 Anarchy Parlor   \n",
       "445         0        0  The Exorcism of Molly Hartley   \n",
       "486         0        0             If There Be Thorns   \n",
       "595         0        0                      Deep Dark   \n",
       "616         0        0                   The Outfield   \n",
       "1241        0        0                      Dance-Off   \n",
       "1289  3250000        0                      Treehouse   \n",
       "1293        0        0                       Tim Maia   \n",
       "1849        0        0                   Spectacular!   \n",
       "2315        0        0           Listen to Your Heart   \n",
       "3329        0        0       Grande, grosso e Verdone   \n",
       "3794        0        0           Toi, moi, les autres   \n",
       "3857        0        0                       Cell 213   \n",
       "3884        0        0                         eCupid   \n",
       "4063  6000000        0         Madea's Family Reunion   \n",
       "4138        0        0             A Time for Dancing   \n",
       "4829        0        0                           Rags   \n",
       "4944        0        0            How to Fall in Love   \n",
       "5216        0        0          Madea's Class Reunion   \n",
       "5695        0        0               Skinwalker Ranch   \n",
       "5920        0        0         The Food Guide to Love   \n",
       "5938        0        0                    Go Goa Gone   \n",
       "5992        0        0               Amiche da morire   \n",
       "6040        0        0          The Vatican Exorcisms   \n",
       "6383  2000000        0       The 12 Dogs of Christmas   \n",
       "6552        0        0                Quatre Ã©toiles   \n",
       "6934        0        0                  Jean-Philippe   \n",
       "8874        0        0                Mission Kashmir   \n",
       "\n",
       "                                                   cast  runtime  \\\n",
       "92    Melanie Stone|Adam Johnson|Kevin Sorbo|Nicola ...        0   \n",
       "334                                   Cristiano Ronaldo        0   \n",
       "410   Robert LaSardo|Jordan James Smith|Sara Fabel|T...        0   \n",
       "445   Sarah Lind|Devon Sawa|Gina Holden|Peter MacNei...        0   \n",
       "486   Heather Graham|Jason Lewis|Rachael Carpani|Mas...        0   \n",
       "595   Sean McGrath|Denise Poirier|Anne Sorce|Tabor H...        0   \n",
       "616   Cameron Dallas|Hamilton Nash Grier|Olivia Stuc...        0   \n",
       "1241  Kathryn McCormick|Shane Harper|Finola Hughes|C...        0   \n",
       "1289  J. Michael Trautmann|Dana Melanie|Daniel Fredr...        0   \n",
       "1293  Robson Nunes|BabÃº Santana|Alinne Moraes|CauÃ£...        0   \n",
       "1849  Nolan Gerard Funk|Jesse Moss|Britt Irvin|Tammi...        0   \n",
       "2315  Alexia Rasmussen|Kent Moran|Cybill Shepherd|Sh...        0   \n",
       "3329  Carlo Verdone|Claudia Gerini|Eva Riccobono|Vit...        0   \n",
       "3794  LeÃ¯la Bekhti|Benjamin Siksou|CÃ©cile Cassel|C...        0   \n",
       "3857  Bruce Greenwood|Eric Balfour|Michael Rooker|De...        0   \n",
       "3884  Houston Rhines|Andy Anderson|John Callahan|Gal...        0   \n",
       "4063  Tyler Perry|Blair Underwood|Lynn Whitfield|Bor...        0   \n",
       "4138  Larisa Oleynik|Shiri Appleby|Peter Coyote|Patr...        0   \n",
       "4829  Keke Palmer|Avan Jogia|Drake Bell|Burkely Duff...        0   \n",
       "4944  Brooke D'Orsay|Eric Mabius|Jody Thompson|Gina ...        0   \n",
       "5216  Tyler Perry|Chandra Currelley|Cheryl Pepsii Ri...        0   \n",
       "5695  Steve Berg|Kyle Davis|Erin Cahill|Jon Gries|De...        0   \n",
       "5920  Richard Coyle|Leonor Watling|GinÃ©s GarcÃ­a Mi...        0   \n",
       "5938     Saif Ali Khan|Anand Tiwari|Vir Das|Pooja Gupta        0   \n",
       "5992  Claudia Gerini|Cristiana Capotondi|Sabrina Imp...        0   \n",
       "6040                                         Joe Marino        0   \n",
       "6383  Jordan-Claire Green|Tom Kemp|Susan Wood|Adam H...        0   \n",
       "6552  JosÃ© Garcia|Isabelle CarrÃ©|RenÃ©e Le Calm|Fr...        0   \n",
       "6934  Fabrice Luchini|Johnny Hallyday|Jackie Berroye...        0   \n",
       "8874  Sanjay Dutt|Hrithik Roshan|Preity Zinta|Jackie...        0   \n",
       "\n",
       "                               genres release_date  vote_average  release_year  \n",
       "92           Fantasy|Action|Adventure     12/19/15           5.4          2015  \n",
       "334                       Documentary      11/9/15           6.5          2015  \n",
       "410                            Horror       1/1/15           5.6          2015  \n",
       "445                            Horror      10/9/15           5.0          2015  \n",
       "486                    TV Movie|Drama       4/5/15           5.4          2015  \n",
       "595                            Horror       1/1/15           4.6          2015  \n",
       "616                      Drama|Comedy     11/10/15           6.6          2015  \n",
       "1241             Romance|Music|Comedy       1/1/14           5.7          2014  \n",
       "1289          Thriller|Horror|Mystery     10/20/14           3.4          2014  \n",
       "1293          Documentary|Drama|Music     10/30/14           6.0          2014  \n",
       "1849                      Drama|Music      2/16/09           5.2          2009  \n",
       "2315              Drama|Music|Romance      8/14/10           7.3          2010  \n",
       "3329                           Family       3/7/08           5.3          2008  \n",
       "3794                    Music|Romance      2/22/11           5.2          2011  \n",
       "3857                           Horror      6/10/11           5.2          2011  \n",
       "3884                          Romance      6/23/11           4.6          2011  \n",
       "4063                           Comedy      1/25/02           5.9          2002  \n",
       "4138                      Drama|Music       9/6/02           7.5          2002  \n",
       "4829            TV Movie|Comedy|Drama      5/28/12           5.7          2012  \n",
       "4944          Comedy|Romance|TV Movie      7/21/12           4.7          2012  \n",
       "5216                     Comedy|Music      6/25/03           6.9          2003  \n",
       "5695  Thriller|Horror|Science Fiction     10/30/13           4.3          2013  \n",
       "5920                   Romance|Comedy     12/18/13           5.6          2013  \n",
       "5938                    Comedy|Horror      5/10/13           5.3          2013  \n",
       "5992             Romance|Crime|Comedy       3/7/13           5.5          2013  \n",
       "6040       Horror|Documentary|Mystery      5/29/13           4.7          2013  \n",
       "6383                     Drama|Family      11/1/05           4.7          2005  \n",
       "6552                           Comedy       1/1/05           5.9          2005  \n",
       "6934                           Comedy       4/5/06           5.6          2006  \n",
       "8874             Action|Drama|Foreign     10/27/00           5.7          2000  "
      ]
     },
     "execution_count": 19,
     "metadata": {},
     "output_type": "execute_result"
    }
   ],
   "source": [
    "df.query('runtime<=0')"
   ]
  },
  {
   "cell_type": "markdown",
   "metadata": {},
   "source": [
    "I'm going to drop all the rows having zero or less as their runtime"
   ]
  },
  {
   "cell_type": "code",
   "execution_count": 20,
   "metadata": {},
   "outputs": [
    {
     "data": {
      "text/html": [
       "<div>\n",
       "<style scoped>\n",
       "    .dataframe tbody tr th:only-of-type {\n",
       "        vertical-align: middle;\n",
       "    }\n",
       "\n",
       "    .dataframe tbody tr th {\n",
       "        vertical-align: top;\n",
       "    }\n",
       "\n",
       "    .dataframe thead th {\n",
       "        text-align: right;\n",
       "    }\n",
       "</style>\n",
       "<table border=\"1\" class=\"dataframe\">\n",
       "  <thead>\n",
       "    <tr style=\"text-align: right;\">\n",
       "      <th></th>\n",
       "      <th>budget</th>\n",
       "      <th>revenue</th>\n",
       "      <th>original_title</th>\n",
       "      <th>cast</th>\n",
       "      <th>runtime</th>\n",
       "      <th>genres</th>\n",
       "      <th>release_date</th>\n",
       "      <th>vote_average</th>\n",
       "      <th>release_year</th>\n",
       "    </tr>\n",
       "  </thead>\n",
       "  <tbody>\n",
       "  </tbody>\n",
       "</table>\n",
       "</div>"
      ],
      "text/plain": [
       "Empty DataFrame\n",
       "Columns: [budget, revenue, original_title, cast, runtime, genres, release_date, vote_average, release_year]\n",
       "Index: []"
      ]
     },
     "execution_count": 20,
     "metadata": {},
     "output_type": "execute_result"
    }
   ],
   "source": [
    "df.drop(df[df['runtime']<= 0].index, inplace = True)\n",
    "df.query('runtime<=0')"
   ]
  },
  {
   "cell_type": "markdown",
   "metadata": {},
   "source": [
    "Let's have a look at the runtime column"
   ]
  },
  {
   "cell_type": "code",
   "execution_count": 21,
   "metadata": {},
   "outputs": [
    {
     "data": {
      "text/plain": [
       "0        124\n",
       "1        120\n",
       "2        119\n",
       "3        136\n",
       "4        137\n",
       "        ... \n",
       "10861     95\n",
       "10862    176\n",
       "10863     94\n",
       "10864     80\n",
       "10865     74\n",
       "Name: runtime, Length: 10737, dtype: int64"
      ]
     },
     "execution_count": 21,
     "metadata": {},
     "output_type": "execute_result"
    }
   ],
   "source": [
    "df.runtime"
   ]
  },
  {
   "cell_type": "markdown",
   "metadata": {},
   "source": [
    "I think that making the runtime in hours will be more useful in the analysis"
   ]
  },
  {
   "cell_type": "code",
   "execution_count": 22,
   "metadata": {},
   "outputs": [
    {
     "data": {
      "text/plain": [
       "0        02:04\n",
       "1        02:00\n",
       "2        01:59\n",
       "3        02:16\n",
       "4        02:17\n",
       "         ...  \n",
       "10861    01:35\n",
       "10862    02:56\n",
       "10863    01:34\n",
       "10864    01:20\n",
       "10865    01:14\n",
       "Name: runtime, Length: 10737, dtype: object"
      ]
     },
     "execution_count": 22,
     "metadata": {},
     "output_type": "execute_result"
    }
   ],
   "source": [
    "#using lambda to convert the time into more familiar formula\n",
    "df.runtime = df.runtime.apply(lambda x: '{:02d}:{:02d}'.format(*divmod(x, 60)))\n",
    "df.runtime"
   ]
  },
  {
   "cell_type": "markdown",
   "metadata": {},
   "source": [
    "Now let's convert the release date into more proper formula"
   ]
  },
  {
   "cell_type": "code",
   "execution_count": 23,
   "metadata": {},
   "outputs": [
    {
     "data": {
      "text/plain": [
       "0   2015-06-09\n",
       "1   2015-05-13\n",
       "2   2015-03-18\n",
       "3   2015-12-15\n",
       "4   2015-04-01\n",
       "Name: release_date, dtype: datetime64[ns]"
      ]
     },
     "execution_count": 23,
     "metadata": {},
     "output_type": "execute_result"
    }
   ],
   "source": [
    "df.release_date = pd.to_datetime(df['release_date'])\n",
    "df.release_date.head(5)"
   ]
  },
  {
   "cell_type": "markdown",
   "metadata": {},
   "source": [
    "I will just add a profits column for the data set"
   ]
  },
  {
   "cell_type": "code",
   "execution_count": 24,
   "metadata": {},
   "outputs": [
    {
     "data": {
      "text/plain": [
       "0    1363528810\n",
       "1     228436354\n",
       "2     185238201\n",
       "3    1868178225\n",
       "4    1316249360\n",
       "5     397950503\n",
       "6     285603537\n",
       "7     487380321\n",
       "8    1082730962\n",
       "9     678708609\n",
       "Name: profit, dtype: int64"
      ]
     },
     "execution_count": 24,
     "metadata": {},
     "output_type": "execute_result"
    }
   ],
   "source": [
    "#profit = revenue - budget\n",
    "df['profit']=df.revenue-df.budget\n",
    "df.profit.head(10)"
   ]
  },
  {
   "cell_type": "markdown",
   "metadata": {},
   "source": [
    "Now we have our final dataset ready to analyse"
   ]
  },
  {
   "cell_type": "code",
   "execution_count": 25,
   "metadata": {},
   "outputs": [
    {
     "data": {
      "text/html": [
       "<div>\n",
       "<style scoped>\n",
       "    .dataframe tbody tr th:only-of-type {\n",
       "        vertical-align: middle;\n",
       "    }\n",
       "\n",
       "    .dataframe tbody tr th {\n",
       "        vertical-align: top;\n",
       "    }\n",
       "\n",
       "    .dataframe thead th {\n",
       "        text-align: right;\n",
       "    }\n",
       "</style>\n",
       "<table border=\"1\" class=\"dataframe\">\n",
       "  <thead>\n",
       "    <tr style=\"text-align: right;\">\n",
       "      <th></th>\n",
       "      <th>budget</th>\n",
       "      <th>revenue</th>\n",
       "      <th>original_title</th>\n",
       "      <th>cast</th>\n",
       "      <th>runtime</th>\n",
       "      <th>genres</th>\n",
       "      <th>release_date</th>\n",
       "      <th>vote_average</th>\n",
       "      <th>release_year</th>\n",
       "      <th>profit</th>\n",
       "    </tr>\n",
       "  </thead>\n",
       "  <tbody>\n",
       "    <tr>\n",
       "      <th>0</th>\n",
       "      <td>150000000</td>\n",
       "      <td>1513528810</td>\n",
       "      <td>Jurassic World</td>\n",
       "      <td>Chris Pratt|Bryce Dallas Howard|Irrfan Khan|Vi...</td>\n",
       "      <td>02:04</td>\n",
       "      <td>Action|Adventure|Science Fiction|Thriller</td>\n",
       "      <td>2015-06-09</td>\n",
       "      <td>6.5</td>\n",
       "      <td>2015</td>\n",
       "      <td>1363528810</td>\n",
       "    </tr>\n",
       "    <tr>\n",
       "      <th>1</th>\n",
       "      <td>150000000</td>\n",
       "      <td>378436354</td>\n",
       "      <td>Mad Max: Fury Road</td>\n",
       "      <td>Tom Hardy|Charlize Theron|Hugh Keays-Byrne|Nic...</td>\n",
       "      <td>02:00</td>\n",
       "      <td>Action|Adventure|Science Fiction|Thriller</td>\n",
       "      <td>2015-05-13</td>\n",
       "      <td>7.1</td>\n",
       "      <td>2015</td>\n",
       "      <td>228436354</td>\n",
       "    </tr>\n",
       "    <tr>\n",
       "      <th>2</th>\n",
       "      <td>110000000</td>\n",
       "      <td>295238201</td>\n",
       "      <td>Insurgent</td>\n",
       "      <td>Shailene Woodley|Theo James|Kate Winslet|Ansel...</td>\n",
       "      <td>01:59</td>\n",
       "      <td>Adventure|Science Fiction|Thriller</td>\n",
       "      <td>2015-03-18</td>\n",
       "      <td>6.3</td>\n",
       "      <td>2015</td>\n",
       "      <td>185238201</td>\n",
       "    </tr>\n",
       "    <tr>\n",
       "      <th>3</th>\n",
       "      <td>200000000</td>\n",
       "      <td>2068178225</td>\n",
       "      <td>Star Wars: The Force Awakens</td>\n",
       "      <td>Harrison Ford|Mark Hamill|Carrie Fisher|Adam D...</td>\n",
       "      <td>02:16</td>\n",
       "      <td>Action|Adventure|Science Fiction|Fantasy</td>\n",
       "      <td>2015-12-15</td>\n",
       "      <td>7.5</td>\n",
       "      <td>2015</td>\n",
       "      <td>1868178225</td>\n",
       "    </tr>\n",
       "    <tr>\n",
       "      <th>4</th>\n",
       "      <td>190000000</td>\n",
       "      <td>1506249360</td>\n",
       "      <td>Furious 7</td>\n",
       "      <td>Vin Diesel|Paul Walker|Jason Statham|Michelle ...</td>\n",
       "      <td>02:17</td>\n",
       "      <td>Action|Crime|Thriller</td>\n",
       "      <td>2015-04-01</td>\n",
       "      <td>7.3</td>\n",
       "      <td>2015</td>\n",
       "      <td>1316249360</td>\n",
       "    </tr>\n",
       "  </tbody>\n",
       "</table>\n",
       "</div>"
      ],
      "text/plain": [
       "      budget     revenue                original_title  \\\n",
       "0  150000000  1513528810                Jurassic World   \n",
       "1  150000000   378436354            Mad Max: Fury Road   \n",
       "2  110000000   295238201                     Insurgent   \n",
       "3  200000000  2068178225  Star Wars: The Force Awakens   \n",
       "4  190000000  1506249360                     Furious 7   \n",
       "\n",
       "                                                cast runtime  \\\n",
       "0  Chris Pratt|Bryce Dallas Howard|Irrfan Khan|Vi...   02:04   \n",
       "1  Tom Hardy|Charlize Theron|Hugh Keays-Byrne|Nic...   02:00   \n",
       "2  Shailene Woodley|Theo James|Kate Winslet|Ansel...   01:59   \n",
       "3  Harrison Ford|Mark Hamill|Carrie Fisher|Adam D...   02:16   \n",
       "4  Vin Diesel|Paul Walker|Jason Statham|Michelle ...   02:17   \n",
       "\n",
       "                                      genres release_date  vote_average  \\\n",
       "0  Action|Adventure|Science Fiction|Thriller   2015-06-09           6.5   \n",
       "1  Action|Adventure|Science Fiction|Thriller   2015-05-13           7.1   \n",
       "2         Adventure|Science Fiction|Thriller   2015-03-18           6.3   \n",
       "3   Action|Adventure|Science Fiction|Fantasy   2015-12-15           7.5   \n",
       "4                      Action|Crime|Thriller   2015-04-01           7.3   \n",
       "\n",
       "   release_year      profit  \n",
       "0          2015  1363528810  \n",
       "1          2015   228436354  \n",
       "2          2015   185238201  \n",
       "3          2015  1868178225  \n",
       "4          2015  1316249360  "
      ]
     },
     "execution_count": 25,
     "metadata": {},
     "output_type": "execute_result"
    }
   ],
   "source": [
    "df.head(5)"
   ]
  },
  {
   "cell_type": "code",
   "execution_count": 26,
   "metadata": {},
   "outputs": [
    {
     "name": "stdout",
     "output_type": "stream",
     "text": [
      "<class 'pandas.core.frame.DataFrame'>\n",
      "Int64Index: 10737 entries, 0 to 10865\n",
      "Data columns (total 10 columns):\n",
      " #   Column          Non-Null Count  Dtype         \n",
      "---  ------          --------------  -----         \n",
      " 0   budget          10737 non-null  int64         \n",
      " 1   revenue         10737 non-null  int64         \n",
      " 2   original_title  10737 non-null  object        \n",
      " 3   cast            10737 non-null  object        \n",
      " 4   runtime         10737 non-null  object        \n",
      " 5   genres          10737 non-null  object        \n",
      " 6   release_date    10737 non-null  datetime64[ns]\n",
      " 7   vote_average    10737 non-null  float64       \n",
      " 8   release_year    10737 non-null  int64         \n",
      " 9   profit          10737 non-null  int64         \n",
      "dtypes: datetime64[ns](1), float64(1), int64(4), object(4)\n",
      "memory usage: 922.7+ KB\n"
     ]
    }
   ],
   "source": [
    "#last checking\n",
    "df.info()"
   ]
  },
  {
   "cell_type": "code",
   "execution_count": 27,
   "metadata": {},
   "outputs": [
    {
     "data": {
      "text/plain": [
       "(10737, 10)"
      ]
     },
     "execution_count": 27,
     "metadata": {},
     "output_type": "execute_result"
    }
   ],
   "source": [
    "df.shape"
   ]
  },
  {
   "cell_type": "markdown",
   "metadata": {},
   "source": [
    ">Our final dataset after cleaning have 10737 rows and 9 columns"
   ]
  },
  {
   "cell_type": "markdown",
   "metadata": {},
   "source": [
    "<a id='eda'></a>\n",
    "## Exploratory Data Analysis\n",
    "\n",
    "> After cleaning our data let's answer the questions we had earlier using statistics and visualizations.\n",
    "\n",
    "### Research Question 1.1 (Which movie has the highest profit & which has the lowest ?)"
   ]
  },
  {
   "cell_type": "markdown",
   "metadata": {},
   "source": [
    "We will get the highest profit by sorting the profit descendingly and the opposite to get the lowest"
   ]
  },
  {
   "cell_type": "code",
   "execution_count": 28,
   "metadata": {},
   "outputs": [
    {
     "data": {
      "text/html": [
       "<div>\n",
       "<style scoped>\n",
       "    .dataframe tbody tr th:only-of-type {\n",
       "        vertical-align: middle;\n",
       "    }\n",
       "\n",
       "    .dataframe tbody tr th {\n",
       "        vertical-align: top;\n",
       "    }\n",
       "\n",
       "    .dataframe thead th {\n",
       "        text-align: right;\n",
       "    }\n",
       "</style>\n",
       "<table border=\"1\" class=\"dataframe\">\n",
       "  <thead>\n",
       "    <tr style=\"text-align: right;\">\n",
       "      <th></th>\n",
       "      <th>original_title</th>\n",
       "      <th>profit</th>\n",
       "    </tr>\n",
       "  </thead>\n",
       "  <tbody>\n",
       "    <tr>\n",
       "      <th>1386</th>\n",
       "      <td>Avatar</td>\n",
       "      <td>2544505847</td>\n",
       "    </tr>\n",
       "  </tbody>\n",
       "</table>\n",
       "</div>"
      ],
      "text/plain": [
       "     original_title      profit\n",
       "1386         Avatar  2544505847"
      ]
     },
     "execution_count": 28,
     "metadata": {},
     "output_type": "execute_result"
    }
   ],
   "source": [
    "#getting the highest profit\n",
    "df_HighestSorted_profit=df.sort_values(by='profit' , ascending = False)\n",
    "df_HighestSorted_profit[['original_title','profit']].head(1)\n"
   ]
  },
  {
   "cell_type": "markdown",
   "metadata": {},
   "source": [
    ">Avatar is on top of the profits with 2,544,505,847 Dollars."
   ]
  },
  {
   "cell_type": "code",
   "execution_count": 29,
   "metadata": {},
   "outputs": [
    {
     "data": {
      "text/html": [
       "<div>\n",
       "<style scoped>\n",
       "    .dataframe tbody tr th:only-of-type {\n",
       "        vertical-align: middle;\n",
       "    }\n",
       "\n",
       "    .dataframe tbody tr th {\n",
       "        vertical-align: top;\n",
       "    }\n",
       "\n",
       "    .dataframe thead th {\n",
       "        text-align: right;\n",
       "    }\n",
       "</style>\n",
       "<table border=\"1\" class=\"dataframe\">\n",
       "  <thead>\n",
       "    <tr style=\"text-align: right;\">\n",
       "      <th></th>\n",
       "      <th>original_title</th>\n",
       "      <th>profit</th>\n",
       "    </tr>\n",
       "  </thead>\n",
       "  <tbody>\n",
       "    <tr>\n",
       "      <th>2244</th>\n",
       "      <td>The Warrior's Way</td>\n",
       "      <td>-413912431</td>\n",
       "    </tr>\n",
       "  </tbody>\n",
       "</table>\n",
       "</div>"
      ],
      "text/plain": [
       "         original_title     profit\n",
       "2244  The Warrior's Way -413912431"
      ]
     },
     "execution_count": 29,
     "metadata": {},
     "output_type": "execute_result"
    }
   ],
   "source": [
    "#getting the lowest profit\n",
    "df_LowSorted_profit=df.sort_values(by='profit' , ascending = True)\n",
    "df_LowSorted_profit[['original_title','profit']].head(1)\n"
   ]
  },
  {
   "cell_type": "markdown",
   "metadata": {},
   "source": [
    ">The Warrior's Way is the lowest profit with total loss of -413,912,431 Dollas."
   ]
  },
  {
   "cell_type": "markdown",
   "metadata": {},
   "source": [
    "### Research Question 1.2 (Which movie has the longest runtime & which has the shortest ?)"
   ]
  },
  {
   "cell_type": "markdown",
   "metadata": {},
   "source": [
    "The same process will happen here"
   ]
  },
  {
   "cell_type": "code",
   "execution_count": 30,
   "metadata": {},
   "outputs": [
    {
     "data": {
      "text/html": [
       "<div>\n",
       "<style scoped>\n",
       "    .dataframe tbody tr th:only-of-type {\n",
       "        vertical-align: middle;\n",
       "    }\n",
       "\n",
       "    .dataframe tbody tr th {\n",
       "        vertical-align: top;\n",
       "    }\n",
       "\n",
       "    .dataframe thead th {\n",
       "        text-align: right;\n",
       "    }\n",
       "</style>\n",
       "<table border=\"1\" class=\"dataframe\">\n",
       "  <thead>\n",
       "    <tr style=\"text-align: right;\">\n",
       "      <th></th>\n",
       "      <th>original_title</th>\n",
       "      <th>runtime</th>\n",
       "    </tr>\n",
       "  </thead>\n",
       "  <tbody>\n",
       "    <tr>\n",
       "      <th>3894</th>\n",
       "      <td>The Story of Film: An Odyssey</td>\n",
       "      <td>15:00</td>\n",
       "    </tr>\n",
       "  </tbody>\n",
       "</table>\n",
       "</div>"
      ],
      "text/plain": [
       "                     original_title runtime\n",
       "3894  The Story of Film: An Odyssey   15:00"
      ]
     },
     "execution_count": 30,
     "metadata": {},
     "output_type": "execute_result"
    }
   ],
   "source": [
    "#getting the longest runtime\n",
    "df_Longest=df.sort_values(by='runtime',ascending = False)\n",
    "df_Longest[['original_title','runtime']].head(1)\n"
   ]
  },
  {
   "cell_type": "markdown",
   "metadata": {},
   "source": [
    ">The movie that has the longest runtime is The Story of Film: An Odyssey with 15 hours runtime !"
   ]
  },
  {
   "cell_type": "code",
   "execution_count": 31,
   "metadata": {},
   "outputs": [
    {
     "data": {
      "text/html": [
       "<div>\n",
       "<style scoped>\n",
       "    .dataframe tbody tr th:only-of-type {\n",
       "        vertical-align: middle;\n",
       "    }\n",
       "\n",
       "    .dataframe tbody tr th {\n",
       "        vertical-align: top;\n",
       "    }\n",
       "\n",
       "    .dataframe thead th {\n",
       "        text-align: right;\n",
       "    }\n",
       "</style>\n",
       "<table border=\"1\" class=\"dataframe\">\n",
       "  <thead>\n",
       "    <tr style=\"text-align: right;\">\n",
       "      <th></th>\n",
       "      <th>original_title</th>\n",
       "      <th>runtime</th>\n",
       "    </tr>\n",
       "  </thead>\n",
       "  <tbody>\n",
       "    <tr>\n",
       "      <th>1112</th>\n",
       "      <td>Batman: Strange Days</td>\n",
       "      <td>00:03</td>\n",
       "    </tr>\n",
       "  </tbody>\n",
       "</table>\n",
       "</div>"
      ],
      "text/plain": [
       "            original_title runtime\n",
       "1112  Batman: Strange Days   00:03"
      ]
     },
     "execution_count": 31,
     "metadata": {},
     "output_type": "execute_result"
    }
   ],
   "source": [
    "#getting the lowest runtime\n",
    "df_lowest=df.sort_values(by='runtime',ascending = True)\n",
    "df_lowest[['original_title','runtime']].head(1)\n"
   ]
  },
  {
   "cell_type": "markdown",
   "metadata": {},
   "source": [
    ">The movie that has the shortest runtime is Batman: Strange Days with only 3 minutes runtime !"
   ]
  },
  {
   "cell_type": "markdown",
   "metadata": {},
   "source": [
    "### Research Question 1.3 (Which movie had the highest and lowest budget?)"
   ]
  },
  {
   "cell_type": "markdown",
   "metadata": {},
   "source": [
    "Again, the same process"
   ]
  },
  {
   "cell_type": "code",
   "execution_count": 32,
   "metadata": {},
   "outputs": [
    {
     "data": {
      "text/html": [
       "<div>\n",
       "<style scoped>\n",
       "    .dataframe tbody tr th:only-of-type {\n",
       "        vertical-align: middle;\n",
       "    }\n",
       "\n",
       "    .dataframe tbody tr th {\n",
       "        vertical-align: top;\n",
       "    }\n",
       "\n",
       "    .dataframe thead th {\n",
       "        text-align: right;\n",
       "    }\n",
       "</style>\n",
       "<table border=\"1\" class=\"dataframe\">\n",
       "  <thead>\n",
       "    <tr style=\"text-align: right;\">\n",
       "      <th></th>\n",
       "      <th>original_title</th>\n",
       "      <th>budget</th>\n",
       "    </tr>\n",
       "  </thead>\n",
       "  <tbody>\n",
       "    <tr>\n",
       "      <th>2244</th>\n",
       "      <td>The Warrior's Way</td>\n",
       "      <td>425000000</td>\n",
       "    </tr>\n",
       "  </tbody>\n",
       "</table>\n",
       "</div>"
      ],
      "text/plain": [
       "         original_title     budget\n",
       "2244  The Warrior's Way  425000000"
      ]
     },
     "execution_count": 32,
     "metadata": {},
     "output_type": "execute_result"
    }
   ],
   "source": [
    "#getting the highest budget\n",
    "df_HighestBudget=df.sort_values(by='budget',ascending = False)\n",
    "df_HighestBudget[['original_title','budget']].head(1)"
   ]
  },
  {
   "cell_type": "markdown",
   "metadata": {},
   "source": [
    ">The Warrior's Way lead the way with 425,000,000 Dollas."
   ]
  },
  {
   "cell_type": "code",
   "execution_count": 33,
   "metadata": {},
   "outputs": [
    {
     "data": {
      "text/html": [
       "<div>\n",
       "<style scoped>\n",
       "    .dataframe tbody tr th:only-of-type {\n",
       "        vertical-align: middle;\n",
       "    }\n",
       "\n",
       "    .dataframe tbody tr th {\n",
       "        vertical-align: top;\n",
       "    }\n",
       "\n",
       "    .dataframe thead th {\n",
       "        text-align: right;\n",
       "    }\n",
       "</style>\n",
       "<table border=\"1\" class=\"dataframe\">\n",
       "  <thead>\n",
       "    <tr style=\"text-align: right;\">\n",
       "      <th></th>\n",
       "      <th>original_title</th>\n",
       "      <th>budget</th>\n",
       "    </tr>\n",
       "  </thead>\n",
       "  <tbody>\n",
       "    <tr>\n",
       "      <th>3817</th>\n",
       "      <td>Salvando al Soldado Perez</td>\n",
       "      <td>0</td>\n",
       "    </tr>\n",
       "  </tbody>\n",
       "</table>\n",
       "</div>"
      ],
      "text/plain": [
       "                 original_title  budget\n",
       "3817  Salvando al Soldado Perez       0"
      ]
     },
     "execution_count": 33,
     "metadata": {},
     "output_type": "execute_result"
    }
   ],
   "source": [
    "#getting the lowest budget\n",
    "df_lowestBudget=df.sort_values(by='budget',ascending = True)\n",
    "df_lowestBudget[['original_title','budget']].head(1)"
   ]
  },
  {
   "cell_type": "markdown",
   "metadata": {},
   "source": [
    ">Salvando al Soldado Perez has the lowest budget with value of zero."
   ]
  },
  {
   "cell_type": "markdown",
   "metadata": {},
   "source": [
    "Now let's visualize the relation between budget and profit "
   ]
  },
  {
   "cell_type": "code",
   "execution_count": 2,
   "metadata": {},
   "outputs": [
    {
     "ename": "NameError",
     "evalue": "name 'df' is not defined",
     "output_type": "error",
     "traceback": [
      "\u001b[1;31m---------------------------------------------------------------------------\u001b[0m",
      "\u001b[1;31mNameError\u001b[0m                                 Traceback (most recent call last)",
      "\u001b[1;32m<ipython-input-2-d51421a000e1>\u001b[0m in \u001b[0;36m<module>\u001b[1;34m\u001b[0m\n\u001b[0;32m      7\u001b[0m \u001b[1;31m#plt.title('Budget vs Profit');\u001b[0m\u001b[1;33m\u001b[0m\u001b[1;33m\u001b[0m\u001b[1;33m\u001b[0m\u001b[0m\n\u001b[0;32m      8\u001b[0m \u001b[1;33m\u001b[0m\u001b[0m\n\u001b[1;32m----> 9\u001b[1;33m \u001b[0msns\u001b[0m\u001b[1;33m.\u001b[0m\u001b[0mcountplot\u001b[0m\u001b[1;33m(\u001b[0m\u001b[0mx\u001b[0m\u001b[1;33m=\u001b[0m\u001b[0mdf\u001b[0m\u001b[1;33m[\u001b[0m\u001b[1;34m'budget'\u001b[0m\u001b[1;33m]\u001b[0m\u001b[1;33m,\u001b[0m \u001b[0mhue\u001b[0m \u001b[1;33m=\u001b[0m \u001b[0mdf\u001b[0m\u001b[1;33m[\u001b[0m\u001b[1;34m'profit'\u001b[0m\u001b[1;33m]\u001b[0m\u001b[1;33m,\u001b[0m \u001b[0mdata\u001b[0m \u001b[1;33m=\u001b[0m \u001b[0mdf\u001b[0m\u001b[1;33m)\u001b[0m\u001b[1;33m\u001b[0m\u001b[1;33m\u001b[0m\u001b[0m\n\u001b[0m",
      "\u001b[1;31mNameError\u001b[0m: name 'df' is not defined"
     ]
    }
   ],
   "source": [
    "#create the scatter plot\n",
    "#plt.scatter(df['budget'], df['profit'], alpha=0.3)\n",
    "#set the labels\n",
    "#plt.xlabel('Budget')\n",
    "#plt.ylabel('Profit')\n",
    "#plt.grid(True)\n",
    "#plt.title('Budget vs Profit');\n",
    "\n",
    "sns.countplot(x=df['budget'], hue = df['profit'], data = df)"
   ]
  },
  {
   "cell_type": "markdown",
   "metadata": {},
   "source": [
    "As you can see the more the movie's budget is, the more profit it achieves"
   ]
  },
  {
   "cell_type": "markdown",
   "metadata": {},
   "source": [
    "### Research Question 1.4 (Which movie had the highest and lowest revenue?)"
   ]
  },
  {
   "cell_type": "code",
   "execution_count": null,
   "metadata": {},
   "outputs": [],
   "source": [
    "#getting the highest revenue\n",
    "df_Highestrevenue=df.sort_values(by='revenue',ascending = False)\n",
    "df_Highestrevenue[['original_title','revenue']].head(1)"
   ]
  },
  {
   "cell_type": "markdown",
   "metadata": {},
   "source": [
    ">Of course it's Avatar, Avatar has 2,781,505,847 Dollars as total revenue."
   ]
  },
  {
   "cell_type": "code",
   "execution_count": null,
   "metadata": {},
   "outputs": [],
   "source": [
    "#getting the lowest budget\n",
    "df_lowestrevenue=df.sort_values(by='revenue',ascending = True)\n",
    "df_lowestrevenue[['original_title','revenue']].head(1)"
   ]
  },
  {
   "cell_type": "markdown",
   "metadata": {},
   "source": [
    ">Manos: The Hands of Fate has 0 as total revenue."
   ]
  },
  {
   "cell_type": "markdown",
   "metadata": {},
   "source": [
    "I will plot the same graph as the last one but now with revenue and profit"
   ]
  },
  {
   "cell_type": "code",
   "execution_count": 213,
   "metadata": {},
   "outputs": [
    {
     "data": {
      "image/png": "[encoded data removed]",
      "text/plain": [
       "<Figure size 432x288 with 1 Axes>"
      ]
     },
     "metadata": {
      "needs_background": "light"
     },
     "output_type": "display_data"
    }
   ],
   "source": [
    "#create the scatter plot\n",
    "plt.scatter(df['revenue'],df['profit'],alpha=0.5)\n",
    "#set the labels\n",
    "plt.xlabel('Revenue')\n",
    "plt.ylabel('Profit')\n",
    "plt.grid(True)\n",
    "plt.title('Revenue vs Profit');"
   ]
  },
  {
   "cell_type": "markdown",
   "metadata": {},
   "source": [
    ">I found that the relation between revenue and profit is linear"
   ]
  },
  {
   "cell_type": "markdown",
   "metadata": {},
   "source": [
    "The graph between budget and revenue is like the following : "
   ]
  },
  {
   "cell_type": "code",
   "execution_count": 214,
   "metadata": {},
   "outputs": [
    {
     "data": {
      "image/png": "[encoded data removed]",
      "text/plain": [
       "<Figure size 432x288 with 1 Axes>"
      ]
     },
     "metadata": {
      "needs_background": "light"
     },
     "output_type": "display_data"
    }
   ],
   "source": [
    "#create the scatter plot\n",
    "plt.scatter(df['budget'],df['revenue'],alpha=0.3)\n",
    "#set the labels\n",
    "plt.xlabel('budget')\n",
    "plt.ylabel('Revenue')\n",
    "plt.grid(True)\n",
    "plt.title('Budget vs Revenue');"
   ]
  },
  {
   "cell_type": "markdown",
   "metadata": {},
   "source": [
    ">The relation between revenue and profit is directly proportional so hen the budget increases the revenue increases as well "
   ]
  },
  {
   "cell_type": "markdown",
   "metadata": {},
   "source": [
    "### Research Question 1.5 (Which are the most frequent actor involved?)\n"
   ]
  },
  {
   "cell_type": "code",
   "execution_count": 194,
   "metadata": {},
   "outputs": [
    {
     "data": {
      "text/plain": [
       "Robert De Niro        72\n",
       "Samuel L. Jackson     71\n",
       "Bruce Willis          62\n",
       "Nicolas Cage          61\n",
       "Michael Caine         53\n",
       "Robin Williams        51\n",
       "John Cusack           50\n",
       "John Goodman          49\n",
       "Morgan Freeman        49\n",
       "Liam Neeson           48\n",
       "Susan Sarandon        48\n",
       "Alec Baldwin          47\n",
       "Julianne Moore        47\n",
       "Johnny Depp           46\n",
       "Christopher Walken    46\n",
       "Gene Hackman          46\n",
       "Tom Hanks             46\n",
       "Willem Dafoe          45\n",
       "Dennis Quaid          45\n",
       "Sylvester Stallone    44\n",
       "dtype: int64"
      ]
     },
     "execution_count": 194,
     "metadata": {},
     "output_type": "execute_result"
    }
   ],
   "source": [
    "#Getting the most frequent actor\n",
    "cast_count = pd.Series(df['cast'].str.cat(sep = '|').split('|')).value_counts(ascending = False)\n",
    "cast_count.head(20)"
   ]
  },
  {
   "cell_type": "markdown",
   "metadata": {},
   "source": [
    ">Robert De Niro lead the way here."
   ]
  },
  {
   "cell_type": "markdown",
   "metadata": {},
   "source": [
    " "
   ]
  },
  {
   "cell_type": "markdown",
   "metadata": {},
   "source": [
    "Let's see how this will look as a plot"
   ]
  },
  {
   "cell_type": "code",
   "execution_count": 248,
   "metadata": {},
   "outputs": [
    {
     "data": {
      "image/png": "[encoded data removed]",
      "text/plain": [
       "<Figure size 432x288 with 1 Axes>"
      ]
     },
     "metadata": {
      "needs_background": "light"
     },
     "output_type": "display_data"
    }
   ],
   "source": [
    "#for the color variety\n",
    "cmap = plt.cm.tab10\n",
    "colors = cmap(np.arange(len(df)) % cmap.N)\n",
    "# Initialize the plot\n",
    "diagram = cast_count.head(20).plot.barh(fontsize = 8,color=colors)\n",
    "# Set a title\n",
    "diagram.set(title = 'Cast')\n",
    "# x-label and y-label\n",
    "diagram.set_xlabel('Number of Movies')\n",
    "diagram.set_ylabel('List of Cast')\n",
    "# Show the plot\n",
    "plt.show()"
   ]
  },
  {
   "cell_type": "markdown",
   "metadata": {},
   "source": [
    "### Research Question 2  (Questions that will be answered based on the 100 rated movies)"
   ]
  },
  {
   "cell_type": "markdown",
   "metadata": {},
   "source": [
    "Before analyzing the top 100 movies we should get a dataframe for the movies"
   ]
  },
  {
   "cell_type": "code",
   "execution_count": 249,
   "metadata": {},
   "outputs": [
    {
     "data": {
      "text/html": [
       "<div>\n",
       "<style scoped>\n",
       "    .dataframe tbody tr th:only-of-type {\n",
       "        vertical-align: middle;\n",
       "    }\n",
       "\n",
       "    .dataframe tbody tr th {\n",
       "        vertical-align: top;\n",
       "    }\n",
       "\n",
       "    .dataframe thead th {\n",
       "        text-align: right;\n",
       "    }\n",
       "</style>\n",
       "<table border=\"1\" class=\"dataframe\">\n",
       "  <thead>\n",
       "    <tr style=\"text-align: right;\">\n",
       "      <th></th>\n",
       "      <th>original_title</th>\n",
       "      <th>vote_average</th>\n",
       "    </tr>\n",
       "  </thead>\n",
       "  <tbody>\n",
       "    <tr>\n",
       "      <th>3894</th>\n",
       "      <td>The Story of Film: An Odyssey</td>\n",
       "      <td>9.2</td>\n",
       "    </tr>\n",
       "    <tr>\n",
       "      <th>1200</th>\n",
       "      <td>Black Mirror: White Christmas</td>\n",
       "      <td>8.8</td>\n",
       "    </tr>\n",
       "    <tr>\n",
       "      <th>6911</th>\n",
       "      <td>Pink Floyd: Pulse</td>\n",
       "      <td>8.7</td>\n",
       "    </tr>\n",
       "    <tr>\n",
       "      <th>2401</th>\n",
       "      <td>Opeth: In Live Concert At The Royal Albert Hall</td>\n",
       "      <td>8.6</td>\n",
       "    </tr>\n",
       "    <tr>\n",
       "      <th>3690</th>\n",
       "      <td>The Art of Flight</td>\n",
       "      <td>8.5</td>\n",
       "    </tr>\n",
       "    <tr>\n",
       "      <th>8221</th>\n",
       "      <td>A Personal Journey with Martin Scorsese Throug...</td>\n",
       "      <td>8.5</td>\n",
       "    </tr>\n",
       "    <tr>\n",
       "      <th>3224</th>\n",
       "      <td>John Mayer: Where the Light Is Live in Los Ang...</td>\n",
       "      <td>8.5</td>\n",
       "    </tr>\n",
       "    <tr>\n",
       "      <th>8411</th>\n",
       "      <td>Queen - Rock Montreal</td>\n",
       "      <td>8.5</td>\n",
       "    </tr>\n",
       "    <tr>\n",
       "      <th>8839</th>\n",
       "      <td>Dave Chappelle: Killin' Them Softly</td>\n",
       "      <td>8.5</td>\n",
       "    </tr>\n",
       "    <tr>\n",
       "      <th>609</th>\n",
       "      <td>The Jinx: The Life and Deaths of Robert Durst</td>\n",
       "      <td>8.4</td>\n",
       "    </tr>\n",
       "  </tbody>\n",
       "</table>\n",
       "</div>"
      ],
      "text/plain": [
       "                                         original_title  vote_average\n",
       "3894                      The Story of Film: An Odyssey           9.2\n",
       "1200                      Black Mirror: White Christmas           8.8\n",
       "6911                                  Pink Floyd: Pulse           8.7\n",
       "2401    Opeth: In Live Concert At The Royal Albert Hall           8.6\n",
       "3690                                  The Art of Flight           8.5\n",
       "8221  A Personal Journey with Martin Scorsese Throug...           8.5\n",
       "3224  John Mayer: Where the Light Is Live in Los Ang...           8.5\n",
       "8411                              Queen - Rock Montreal           8.5\n",
       "8839                Dave Chappelle: Killin' Them Softly           8.5\n",
       "609       The Jinx: The Life and Deaths of Robert Durst           8.4"
      ]
     },
     "execution_count": 249,
     "metadata": {},
     "output_type": "execute_result"
    }
   ],
   "source": [
    "df100R=df.sort_values(by='vote_average',ascending=False)\n",
    "df100R=df100[['original_title','vote_average']].head(100)\n",
    "#dataframe that includes the top 100 movies\n",
    "df100R.head(10)"
   ]
  },
  {
   "cell_type": "markdown",
   "metadata": {},
   "source": [
    "### Research Question 2.1  (What is the highest rated movie?)"
   ]
  },
  {
   "cell_type": "code",
   "execution_count": 197,
   "metadata": {},
   "outputs": [
    {
     "data": {
      "text/html": [
       "<div>\n",
       "<style scoped>\n",
       "    .dataframe tbody tr th:only-of-type {\n",
       "        vertical-align: middle;\n",
       "    }\n",
       "\n",
       "    .dataframe tbody tr th {\n",
       "        vertical-align: top;\n",
       "    }\n",
       "\n",
       "    .dataframe thead th {\n",
       "        text-align: right;\n",
       "    }\n",
       "</style>\n",
       "<table border=\"1\" class=\"dataframe\">\n",
       "  <thead>\n",
       "    <tr style=\"text-align: right;\">\n",
       "      <th></th>\n",
       "      <th>original_title</th>\n",
       "      <th>vote_average</th>\n",
       "    </tr>\n",
       "  </thead>\n",
       "  <tbody>\n",
       "    <tr>\n",
       "      <th>3894</th>\n",
       "      <td>The Story of Film: An Odyssey</td>\n",
       "      <td>9.2</td>\n",
       "    </tr>\n",
       "  </tbody>\n",
       "</table>\n",
       "</div>"
      ],
      "text/plain": [
       "                     original_title  vote_average\n",
       "3894  The Story of Film: An Odyssey           9.2"
      ]
     },
     "execution_count": 197,
     "metadata": {},
     "output_type": "execute_result"
    }
   ],
   "source": [
    "df100R.head(1)"
   ]
  },
  {
   "cell_type": "markdown",
   "metadata": {},
   "source": [
    "The Story of Film: An Odyssey is the highest rated movie."
   ]
  },
  {
   "cell_type": "code",
   "execution_count": 198,
   "metadata": {},
   "outputs": [
    {
     "data": {
      "image/png": "[encoded data removed]",
      "text/plain": [
       "<Figure size 432x288 with 1 Axes>"
      ]
     },
     "metadata": {
      "needs_background": "light"
     },
     "output_type": "display_data"
    }
   ],
   "source": [
    "df100R.hist();"
   ]
  },
  {
   "cell_type": "markdown",
   "metadata": {},
   "source": [
    "Over 50% of the top 100 movies are rated with 8.0"
   ]
  },
  {
   "cell_type": "markdown",
   "metadata": {},
   "source": [
    " "
   ]
  },
  {
   "cell_type": "markdown",
   "metadata": {},
   "source": [
    "Let's see some visualization of the top 100 movies"
   ]
  },
  {
   "cell_type": "code",
   "execution_count": 200,
   "metadata": {},
   "outputs": [
    {
     "data": {
      "image/png": "[encoded data removed]",
      "text/plain": [
       "<Figure size 1080x576 with 4 Axes>"
      ]
     },
     "metadata": {
      "needs_background": "light"
     },
     "output_type": "display_data"
    }
   ],
   "source": [
    "#creating a dataframe first\n",
    "df100=df.sort_values(by='vote_average',ascending=False)\n",
    "df100=df100[['original_title','vote_average','budget','revenue','profit','genres','cast']].head(100)\n",
    "#visualizing the data\n",
    "df100.hist(figsize=(15,8));"
   ]
  },
  {
   "cell_type": "markdown",
   "metadata": {},
   "source": [
    "Seems here that most of the 8.0 rated films did not spend too much compared to the higher rated movies"
   ]
  },
  {
   "cell_type": "markdown",
   "metadata": {},
   "source": [
    "### Research Question 2.2  (What is the average budget of the movies?)"
   ]
  },
  {
   "cell_type": "markdown",
   "metadata": {},
   "source": [
    "Getting the average value for the budget"
   ]
  },
  {
   "cell_type": "code",
   "execution_count": 201,
   "metadata": {
    "scrolled": true
   },
   "outputs": [
    {
     "data": {
      "text/plain": [
       "14185570.58"
      ]
     },
     "execution_count": 201,
     "metadata": {},
     "output_type": "execute_result"
    }
   ],
   "source": [
    "df100['budget'].mean()"
   ]
  },
  {
   "cell_type": "markdown",
   "metadata": {},
   "source": [
    ">So the average budget of the movies is 14,185,571.58 Dollars"
   ]
  },
  {
   "cell_type": "markdown",
   "metadata": {},
   "source": [
    "### Research Question 2.3  (What is the average revenue of the movies?)"
   ]
  },
  {
   "cell_type": "markdown",
   "metadata": {},
   "source": [
    "Getting the average value for the revenue"
   ]
  },
  {
   "cell_type": "code",
   "execution_count": 204,
   "metadata": {},
   "outputs": [
    {
     "data": {
      "text/plain": [
       "81859012.63"
      ]
     },
     "execution_count": 204,
     "metadata": {},
     "output_type": "execute_result"
    }
   ],
   "source": [
    "df100['revenue'].mean()"
   ]
  },
  {
   "cell_type": "markdown",
   "metadata": {},
   "source": [
    ">The average budget of the movies is 81,859,012.63 Dollars"
   ]
  },
  {
   "cell_type": "markdown",
   "metadata": {},
   "source": [
    "### Research Question 2.4  (What is the average runtime of the movies?)"
   ]
  },
  {
   "cell_type": "markdown",
   "metadata": {},
   "source": [
    "Getting the average value for the runtime"
   ]
  },
  {
   "cell_type": "code",
   "execution_count": 205,
   "metadata": {},
   "outputs": [
    {
     "data": {
      "text/plain": [
       "Timestamp('2021-03-28 01:42:41.972621312')"
      ]
     },
     "execution_count": 205,
     "metadata": {},
     "output_type": "execute_result"
    }
   ],
   "source": [
    "df['runtime'] = pd.to_datetime(df['runtime'], infer_datetime_format=True)\n",
    "df['runtime'].mean()"
   ]
  },
  {
   "cell_type": "markdown",
   "metadata": {},
   "source": [
    "> The average runtime for the 100 rated movies is 1 hour and 42 minutes and 41 seconds."
   ]
  },
  {
   "cell_type": "markdown",
   "metadata": {},
   "source": [
    "### Research Question 2.5  (Which are the successfull genres?)"
   ]
  },
  {
   "cell_type": "markdown",
   "metadata": {},
   "source": [
    "First I will get the total count for every genre"
   ]
  },
  {
   "cell_type": "code",
   "execution_count": 206,
   "metadata": {},
   "outputs": [
    {
     "data": {
      "text/plain": [
       "Drama              34\n",
       "Documentary        33\n",
       "Music              21\n",
       "Comedy             17\n",
       "Crime              13\n",
       "Thriller           12\n",
       "Animation          10\n",
       "Science Fiction    10\n",
       "Family             10\n",
       "Adventure           8\n",
       "Action              6\n",
       "Horror              5\n",
       "Romance             5\n",
       "War                 4\n",
       "Mystery             4\n",
       "Fantasy             3\n",
       "History             2\n",
       "TV Movie            1\n",
       "dtype: int64"
      ]
     },
     "execution_count": 206,
     "metadata": {},
     "output_type": "execute_result"
    }
   ],
   "source": [
    "genres_count = pd.Series(df100['genres'].str.cat(sep = '|').split('|')).value_counts(ascending = False)\n",
    "genres_count"
   ]
  },
  {
   "cell_type": "markdown",
   "metadata": {},
   "source": [
    ">The favourite genre here is Drama."
   ]
  },
  {
   "cell_type": "markdown",
   "metadata": {},
   "source": [
    "Let's visualize the genres"
   ]
  },
  {
   "cell_type": "code",
   "execution_count": 250,
   "metadata": {},
   "outputs": [
    {
     "data": {
      "image/png": "[encoded data removed]",
      "text/plain": [
       "<Figure size 432x288 with 1 Axes>"
      ]
     },
     "metadata": {
      "needs_background": "light"
     },
     "output_type": "display_data"
    }
   ],
   "source": [
    "#for the color variety\n",
    "cmap = plt.cm.tab10\n",
    "colors = cmap(np.arange(len(df)) % cmap.N)\n",
    "# Initialize the plot\n",
    "diagram = genres_count.plot.bar(fontsize = 12,color=colors)\n",
    "# Set a title\n",
    "plt.title('Top Genres')\n",
    "# x-label and y-label\n",
    "plt.xlabel('Type')\n",
    "plt.ylabel('Number of Movies')\n",
    "# Show the plot\n",
    "plt.show();"
   ]
  },
  {
   "cell_type": "markdown",
   "metadata": {},
   "source": [
    "### Research Question 2.6  (Which are the most frequent actor involved?)"
   ]
  },
  {
   "cell_type": "markdown",
   "metadata": {},
   "source": [
    "First I will get the total count for every actor"
   ]
  },
  {
   "cell_type": "code",
   "execution_count": 209,
   "metadata": {
    "scrolled": false
   },
   "outputs": [
    {
     "data": {
      "text/plain": [
       "Louis Tomlinson      3\n",
       "Niall Horan          3\n",
       "Liam Payne           3\n",
       "Bill Burr            3\n",
       "David Tennant        3\n",
       "Harry Styles         3\n",
       "Adrien Brody         2\n",
       "Scatman Crothers     2\n",
       "Zayn Malik           2\n",
       "Robert De Niro       2\n",
       "Frank John Hughes    2\n",
       "Brad Pitt            2\n",
       "Ralph Fiennes        2\n",
       "Jack Nicholson       2\n",
       "Michael Caine        2\n",
       "Louis C.K.           2\n",
       "Robert Duvall        2\n",
       "Uma Thurman          2\n",
       "Christian Bale       2\n",
       "Edward Norton        2\n",
       "dtype: int64"
      ]
     },
     "execution_count": 209,
     "metadata": {},
     "output_type": "execute_result"
    }
   ],
   "source": [
    "actor_count = pd.Series(df100['cast'].str.cat(sep = '|').split('|')).value_counts(ascending = False)\n",
    "actor_count.head(20)"
   ]
  },
  {
   "cell_type": "markdown",
   "metadata": {},
   "source": [
    "Let's visualize the actors"
   ]
  },
  {
   "cell_type": "code",
   "execution_count": 251,
   "metadata": {},
   "outputs": [
    {
     "data": {
      "image/png": "[encoded data removed]",
      "text/plain": [
       "<Figure size 432x288 with 1 Axes>"
      ]
     },
     "metadata": {
      "needs_background": "light"
     },
     "output_type": "display_data"
    }
   ],
   "source": [
    "# Initialize the plot\n",
    "cmap = plt.cm.tab10\n",
    "colors = cmap(np.arange(len(df)) % cmap.N)\n",
    "diagram = actor_count.head(20).plot.barh(fontsize = 8,color=colors)\n",
    "# Set a title\n",
    "diagram.set(title = 'Actors')\n",
    "# x-label and y-label\n",
    "diagram.set_xlabel('Number of Movies')\n",
    "diagram.set_ylabel('List of Actors')\n",
    "# Show the plot\n",
    "plt.show()"
   ]
  },
  {
   "cell_type": "markdown",
   "metadata": {},
   "source": [
    "The top six actors here are :\n",
    ">Louis Tomlinson\n",
    ">Niall Horan          \n",
    ">Liam Payne           \n",
    ">Bill Burr            \n",
    ">David Tennant        \n",
    ">Harry Styles         \n",
    "\n",
    "with all of them having 3 movies in the list"
   ]
  },
  {
   "cell_type": "markdown",
   "metadata": {},
   "source": [
    "<a id='conclusions'></a>\n",
    "## Conclusions\n",
    "\n",
    "\n",
    "> ##### So the conclusion is, that if we want to create movies which can be in the top 100 highest rated movies then\n",
    "> The average budget of the movies can be arround 14,185,571.58 Dollars\n",
    "\n",
    "> The average runtime of the movies can be arround 1 hour and 42 minutes and 41 seconds.\n",
    "\n",
    "> The Top 10 Genres we should focus on should be Drama, Documentary, Music, Comedy, Crime, Thriller, Animation, Science Fiction, Family and Adventure.\n",
    "\n",
    "> The Top 6 cast we should focus on should be : Louis Tomlinson Niall Horan, Liam Payne, Bill Burr, David Tennant and Harry Styles\n",
    "\n",
    "> The average revenue of the movies will be arround 81,859,012.63 Dollars \n",
    "\n",
    "> ##### The limitations associated with the conclusions are:\n",
    "\n",
    "> The conclusion is not full proof that given the above requirement the movie will be a big hit but it can be.\n",
    "\n",
    "> Also, we also lost some of the data in the data cleaning steps where we dont know the revenue and budget of the movie, which has affected our analysis.\n",
    "\n",
    "> This conclusion is not error proof."
   ]
  }
 ],
 "metadata": {
  "kernelspec": {
   "display_name": "Python 3",
   "language": "python",
   "name": "python3"
  },
  "language_info": {
   "codemirror_mode": {
    "name": "ipython",
    "version": 3
   },
   "file_extension": ".py",
   "mimetype": "text/x-python",
   "name": "python",
   "nbconvert_exporter": "python",
   "pygments_lexer": "ipython3",
   "version": "3.8.5"
  }
 },
 "nbformat": 4,
 "nbformat_minor": 2
}
